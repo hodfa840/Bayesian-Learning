{
 "cells": [
  {
   "cell_type": "markdown",
   "id": "c22f80fd",
   "metadata": {},
   "source": [
    "#  <font color='darkblue'> Bayesian Learning (732A73) Lab 2</font> \n"
   ]
  },
  {
   "cell_type": "markdown",
   "id": "90524313",
   "metadata": {},
   "source": [
    "<center><font color='brown'>Hoda Fakharzadehjahromy (hodfa840),  Ravinder Alta (ravat601)</font></center>"
   ]
  },
  {
   "cell_type": "markdown",
   "id": "63a84ff1",
   "metadata": {
    "deletable": false,
    "editable": false,
    "run_control": {
     "frozen": true
    }
   },
   "source": [
    "# Linear and Polynomial Regression"
   ]
  },
  {
   "cell_type": "markdown",
   "id": "f083c9f8",
   "metadata": {},
   "source": [
    "1. Linear and polynomial regression\n",
    "\n",
    "The dataset TempLinkoping.txt contains daily average temperatures (in degree\n",
    "Celcius) at Malmslätt, Linköping over the course of the year 2018. The response\n",
    "variable is temp and the covariate is\n",
    "the number of days since the beginning of the year\n",
    "\n",
    "$$time=\\frac{\\text{the number of days since beginning of year}}{365}.\n",
    "$$\n",
    "A Bayesian analysis of the following quadratic regression model is to be performed:\n",
    "$$temp=\\beta_{0}+\\beta_{1}\\cdot time+\\beta_{2}\\cdot time^{2}+\\varepsilon\\mbox{,}\\varepsilon\\overset{iid}{\\sim}N(0,\\sigma^{2}).\n",
    "$$\n"
   ]
  },
  {
   "cell_type": "markdown",
   "id": "b0ecc04c",
   "metadata": {},
   "source": [
    "## (a) "
   ]
  },
  {
   "cell_type": "markdown",
   "id": "fa89911b",
   "metadata": {},
   "source": [
    "(a) *Use the conjugate prior for the linear regression model. The prior hyper-\n",
    "parameters $\\mu_{0}$ , $\\Omega_{0}$, $\\nu_{0}$ and $\\sigma_{0}^{2}$ shall be set to sensible values. Start with\n",
    " $\\mu_{0}=(-10,100,-100)^{T}$ , $\\Omega_{0}=0.01\\cdot I_{3}$, $\\nu_{0}=4$ and $\\sigma_{0}^{2}=1$. Check if this\n",
    "prior agrees with your prior opinions by simulating draws from the joint prior\n",
    "of all parameters and for every draw compute the regression curve. This gives\n",
    "a collection of regression curves; one for each draw from the prior. Does the\n",
    "collection of curves look reasonable? If not, change the prior hyperparame-\n",
    "ters until the collection of prior regression curves agrees with your prior beliefs\n",
    "about the regression curve.\n",
    "[Hint: R package mvtnorm can be used and your $Inv$ $\\chi^{2}$ simulator from Lab 1.]*\n",
    "\n"
   ]
  },
  {
   "cell_type": "code",
   "execution_count": 1,
   "id": "b64d5e1f",
   "metadata": {},
   "outputs": [],
   "source": [
    "TempLink = read.table(\"TempLinkoping.txt\",header = TRUE)\n",
    "attach(TempLink)"
   ]
  },
  {
   "cell_type": "code",
   "execution_count": 2,
   "id": "e120f4f0",
   "metadata": {},
   "outputs": [
    {
     "data": {
      "text/html": [
       "<style>\n",
       ".list-inline {list-style: none; margin:0; padding: 0}\n",
       ".list-inline>li {display: inline-block}\n",
       ".list-inline>li:not(:last-child)::after {content: \"\\00b7\"; padding: 0 .5ex}\n",
       "</style>\n",
       "<ol class=list-inline><li>365</li><li>2</li></ol>\n"
      ],
      "text/latex": [
       "\\begin{enumerate*}\n",
       "\\item 365\n",
       "\\item 2\n",
       "\\end{enumerate*}\n"
      ],
      "text/markdown": [
       "1. 365\n",
       "2. 2\n",
       "\n",
       "\n"
      ],
      "text/plain": [
       "[1] 365   2"
      ]
     },
     "metadata": {},
     "output_type": "display_data"
    }
   ],
   "source": [
    "dim(TempLink)"
   ]
  },
  {
   "cell_type": "markdown",
   "id": "fa6a60d8",
   "metadata": {},
   "source": [
    "%%"
   ]
  },
  {
   "cell_type": "code",
   "execution_count": 3,
   "id": "21a6bd01",
   "metadata": {},
   "outputs": [
    {
     "data": {
      "text/html": [
       "<table class=\"dataframe\">\n",
       "<caption>A data.frame: 6 × 2</caption>\n",
       "<thead>\n",
       "\t<tr><th></th><th scope=col>time</th><th scope=col>temp</th></tr>\n",
       "\t<tr><th></th><th scope=col>&lt;dbl&gt;</th><th scope=col>&lt;dbl&gt;</th></tr>\n",
       "</thead>\n",
       "<tbody>\n",
       "\t<tr><th scope=row>1</th><td>0.002740</td><td> 2.0083</td></tr>\n",
       "\t<tr><th scope=row>2</th><td>0.005479</td><td> 2.8667</td></tr>\n",
       "\t<tr><th scope=row>3</th><td>0.008219</td><td> 2.0750</td></tr>\n",
       "\t<tr><th scope=row>4</th><td>0.010959</td><td> 2.0708</td></tr>\n",
       "\t<tr><th scope=row>5</th><td>0.013699</td><td> 0.5583</td></tr>\n",
       "\t<tr><th scope=row>6</th><td>0.016438</td><td>-3.5208</td></tr>\n",
       "</tbody>\n",
       "</table>\n"
      ],
      "text/latex": [
       "A data.frame: 6 × 2\n",
       "\\begin{tabular}{r|ll}\n",
       "  & time & temp\\\\\n",
       "  & <dbl> & <dbl>\\\\\n",
       "\\hline\n",
       "\t1 & 0.002740 &  2.0083\\\\\n",
       "\t2 & 0.005479 &  2.8667\\\\\n",
       "\t3 & 0.008219 &  2.0750\\\\\n",
       "\t4 & 0.010959 &  2.0708\\\\\n",
       "\t5 & 0.013699 &  0.5583\\\\\n",
       "\t6 & 0.016438 & -3.5208\\\\\n",
       "\\end{tabular}\n"
      ],
      "text/markdown": [
       "\n",
       "A data.frame: 6 × 2\n",
       "\n",
       "| <!--/--> | time &lt;dbl&gt; | temp &lt;dbl&gt; |\n",
       "|---|---|---|\n",
       "| 1 | 0.002740 |  2.0083 |\n",
       "| 2 | 0.005479 |  2.8667 |\n",
       "| 3 | 0.008219 |  2.0750 |\n",
       "| 4 | 0.010959 |  2.0708 |\n",
       "| 5 | 0.013699 |  0.5583 |\n",
       "| 6 | 0.016438 | -3.5208 |\n",
       "\n"
      ],
      "text/plain": [
       "  time     temp   \n",
       "1 0.002740  2.0083\n",
       "2 0.005479  2.8667\n",
       "3 0.008219  2.0750\n",
       "4 0.010959  2.0708\n",
       "5 0.013699  0.5583\n",
       "6 0.016438 -3.5208"
      ]
     },
     "metadata": {},
     "output_type": "display_data"
    }
   ],
   "source": [
    "head(TempLink)"
   ]
  },
  {
   "cell_type": "code",
   "execution_count": 4,
   "id": "5e3211e5",
   "metadata": {},
   "outputs": [],
   "source": [
    "# setting the initial values\n",
    "mu.0 = c(-10,100,10)\n",
    "omega.0 = 0.01*diag(3)\n",
    "nu.0 = 4\n",
    "sigma2.0 = 1\n"
   ]
  },
  {
   "cell_type": "markdown",
   "id": "8da04883",
   "metadata": {},
   "source": [
    "![slide.png](slide.png)\n"
   ]
  },
  {
   "cell_type": "code",
   "execution_count": 5,
   "id": "3433eba8",
   "metadata": {},
   "outputs": [],
   "source": [
    "\n",
    "tau2<- function(data,mu,n){\n",
    "    sum((log(data)-mu)^2)/n\n",
    "}\n",
    "# Random generation from a scaled inverse chisquare\n",
    "rinvchisq <- function(draws, n, tau) {\n",
    "chi_square <- rchisq(draws, n)\n",
    "return( tau*(n-1)/chi_square )\n",
    "}\n",
    "# Density of a scaled inverse chisquare\n",
    "dinvchisq <- function(data, df, tau) {\n",
    "return( (tau2*df/2)^(df/2)/gamma(df/2) * exp(-df*tau2/(2*data)) / data^(1+df/2) )\n",
    "}\n"
   ]
  },
  {
   "cell_type": "code",
   "execution_count": 6,
   "id": "27e4a1bd",
   "metadata": {},
   "outputs": [],
   "source": [
    "lmTemp = lm( temp ~ time + I(time^2), data = TempLink)"
   ]
  },
  {
   "cell_type": "code",
   "execution_count": 7,
   "id": "1907e00c",
   "metadata": {},
   "outputs": [
    {
     "data": {
      "text/plain": [
       "\n",
       "Call:\n",
       "lm(formula = temp ~ time + I(time^2), data = TempLink)\n",
       "\n",
       "Residuals:\n",
       "     Min       1Q   Median       3Q      Max \n",
       "-14.5949  -3.2275   0.0759   3.5015  14.2577 \n",
       "\n",
       "Coefficients:\n",
       "            Estimate Std. Error t value Pr(>|t|)    \n",
       "(Intercept)  -11.956      0.820  -14.58   <2e-16 ***\n",
       "time         103.584      3.776   27.43   <2e-16 ***\n",
       "I(time^2)    -95.418      3.647  -26.16   <2e-16 ***\n",
       "---\n",
       "Signif. codes:  0 '***' 0.001 '**' 0.01 '*' 0.05 '.' 0.1 ' ' 1\n",
       "\n",
       "Residual standard error: 5.193 on 362 degrees of freedom\n",
       "Multiple R-squared:  0.6759,\tAdjusted R-squared:  0.6741 \n",
       "F-statistic: 377.5 on 2 and 362 DF,  p-value: < 2.2e-16\n"
      ]
     },
     "metadata": {},
     "output_type": "display_data"
    }
   ],
   "source": [
    "summary(lmTemp)"
   ]
  },
  {
   "cell_type": "code",
   "execution_count": 8,
   "id": "84c081f6",
   "metadata": {},
   "outputs": [
    {
     "data": {
      "text/html": [
       "5.16720427310553"
      ],
      "text/latex": [
       "5.16720427310553"
      ],
      "text/markdown": [
       "5.16720427310553"
      ],
      "text/plain": [
       "[1] 5.167204"
      ]
     },
     "metadata": {},
     "output_type": "display_data"
    }
   ],
   "source": [
    "sqrt(26.7)"
   ]
  },
  {
   "cell_type": "code",
   "execution_count": 9,
   "id": "37f2aa6a",
   "metadata": {},
   "outputs": [
    {
     "data": {
      "text/html": [
       "26.747622942917"
      ],
      "text/latex": [
       "26.747622942917"
      ],
      "text/markdown": [
       "26.747622942917"
      ],
      "text/plain": [
       "[1] 26.74762"
      ]
     },
     "metadata": {},
     "output_type": "display_data"
    }
   ],
   "source": [
    "sum(lmTemp$residuals**2)/length(lmTemp$residuals)"
   ]
  },
  {
   "cell_type": "code",
   "execution_count": 10,
   "id": "77661c95",
   "metadata": {},
   "outputs": [
    {
     "data": {
      "image/png": "[encoded data removed]",
      "text/plain": [
       "plot without title"
      ]
     },
     "metadata": {
      "image/png": {
       "height": 420,
       "width": 420
      }
     },
     "output_type": "display_data"
    }
   ],
   "source": [
    "plot(y=temp,x=time,col='deeppink',pch=19,lwd=3)\n",
    "lines(y=lmTemp$fitted.values,x=time,col='blue',lwd=3)"
   ]
  },
  {
   "cell_type": "code",
   "execution_count": 11,
   "id": "ffa36a67",
   "metadata": {},
   "outputs": [
    {
     "name": "stderr",
     "output_type": "stream",
     "text": [
      "Warning message:\n",
      "\"package 'mvtnorm' was built under R version 3.6.3\"\n"
     ]
    }
   ],
   "source": [
    "library(mvtnorm )"
   ]
  },
  {
   "cell_type": "markdown",
   "id": "c780bc60",
   "metadata": {},
   "source": [
    "we first simulate $\\sigma ^2$ from its marginal prior $\\text{Inv-}\\chi^2$ and then simulate beta from its prior conditional distribution $\\mathcal{N}(\\mu_0\\,\\sigma^{2}\\Omega_0^{-1 })\\$                                                                                                    "
   ]
  },
  {
   "cell_type": "code",
   "execution_count": 12,
   "id": "4c9530c4",
   "metadata": {},
   "outputs": [],
   "source": [
    "\n",
    "sigma2.prior <- function(){\n",
    "    rinvchisq(draws = 1,n = nu.0,tau = sigma2.0)\n",
    "}"
   ]
  },
  {
   "cell_type": "code",
   "execution_count": 13,
   "id": "1cbaf8ab",
   "metadata": {},
   "outputs": [],
   "source": [
    "Beta.prior <- function(sigma2){\n",
    "    rmvnorm(mean =mu.0,n=1,sigma = sigma2*solve(omega.0))\n",
    "}"
   ]
  },
  {
   "cell_type": "code",
   "execution_count": 14,
   "id": "407ce78c",
   "metadata": {},
   "outputs": [],
   "source": [
    "# create empty structure for sigma,Beta and error\n",
    "NDraws = 200\n",
    "ErrorTerm = numeric(NDraws)\n",
    "sigma2 = numeric(NDraws)\n",
    "BetaList = matrix(,NDraws,3)\n",
    "colnames(BetaList) = c('B0','B1','B2')\n"
   ]
  },
  {
   "cell_type": "code",
   "execution_count": 15,
   "id": "68959156",
   "metadata": {},
   "outputs": [],
   "source": [
    "for(i in 1:NDraws){\n",
    "    sigma2[i] = sigma2.prior()\n",
    "    BetaList[i,1] = Beta.prior(sigma2[i])[1]\n",
    "    BetaList[i,2] = Beta.prior(sigma2[i])[2]\n",
    "    BetaList[i,3] = Beta.prior(sigma2[i])[3]\n",
    "    ErrorTerm[i] = rnorm(1,mean = 0,sd = sqrt(sigma2))\n",
    "}"
   ]
  },
  {
   "cell_type": "code",
   "execution_count": 16,
   "id": "68be42fe",
   "metadata": {},
   "outputs": [],
   "source": [
    "Bayes.Regressor = matrix(,length(time),NDraws)"
   ]
  },
  {
   "cell_type": "code",
   "execution_count": 17,
   "id": "e600501d",
   "metadata": {},
   "outputs": [],
   "source": [
    "for(i in 1:NDraws){\n",
    "    Bayes.Regressor[,i]= BetaList[i,1] +BetaList[i,2]*time + BetaList[i,3]*(time^2) + ErrorTerm[i]\n",
    "}\n",
    "colnames(Bayes.Regressor)=paste0('model',1:NDraws)"
   ]
  },
  {
   "cell_type": "code",
   "execution_count": 18,
   "id": "b9fa38a5",
   "metadata": {},
   "outputs": [
    {
     "data": {
      "text/html": [
       "<table class=\"dataframe\">\n",
       "<caption>A data.frame: 1 × 200</caption>\n",
       "<thead>\n",
       "\t<tr><th></th><th scope=col>model1</th><th scope=col>model2</th><th scope=col>model3</th><th scope=col>model4</th><th scope=col>model5</th><th scope=col>model6</th><th scope=col>model7</th><th scope=col>model8</th><th scope=col>model9</th><th scope=col>model10</th><th scope=col>...</th><th scope=col>model191</th><th scope=col>model192</th><th scope=col>model193</th><th scope=col>model194</th><th scope=col>model195</th><th scope=col>model196</th><th scope=col>model197</th><th scope=col>model198</th><th scope=col>model199</th><th scope=col>model200</th></tr>\n",
       "\t<tr><th></th><th scope=col>&lt;dbl&gt;</th><th scope=col>&lt;dbl&gt;</th><th scope=col>&lt;dbl&gt;</th><th scope=col>&lt;dbl&gt;</th><th scope=col>&lt;dbl&gt;</th><th scope=col>&lt;dbl&gt;</th><th scope=col>&lt;dbl&gt;</th><th scope=col>&lt;dbl&gt;</th><th scope=col>&lt;dbl&gt;</th><th scope=col>&lt;dbl&gt;</th><th scope=col>...</th><th scope=col>&lt;dbl&gt;</th><th scope=col>&lt;dbl&gt;</th><th scope=col>&lt;dbl&gt;</th><th scope=col>&lt;dbl&gt;</th><th scope=col>&lt;dbl&gt;</th><th scope=col>&lt;dbl&gt;</th><th scope=col>&lt;dbl&gt;</th><th scope=col>&lt;dbl&gt;</th><th scope=col>&lt;dbl&gt;</th><th scope=col>&lt;dbl&gt;</th></tr>\n",
       "</thead>\n",
       "<tbody>\n",
       "\t<tr><th scope=row>1</th><td>-13.5316</td><td>-18.09107</td><td>-4.693604</td><td>-8.412984</td><td>-21.19846</td><td>-13.28995</td><td>-12.64601</td><td>0.2838956</td><td>-3.220113</td><td>-14.29325</td><td>...</td><td>1.340843</td><td>16.76609</td><td>7.27392</td><td>-13.83289</td><td>-54.41039</td><td>-2.225641</td><td>-4.7022</td><td>10.75558</td><td>-8.922333</td><td>-6.071511</td></tr>\n",
       "</tbody>\n",
       "</table>\n"
      ],
      "text/latex": [
       "A data.frame: 1 × 200\n",
       "\\begin{tabular}{r|lllllllllllllllllllll}\n",
       "  & model1 & model2 & model3 & model4 & model5 & model6 & model7 & model8 & model9 & model10 & ... & model191 & model192 & model193 & model194 & model195 & model196 & model197 & model198 & model199 & model200\\\\\n",
       "  & <dbl> & <dbl> & <dbl> & <dbl> & <dbl> & <dbl> & <dbl> & <dbl> & <dbl> & <dbl> & ... & <dbl> & <dbl> & <dbl> & <dbl> & <dbl> & <dbl> & <dbl> & <dbl> & <dbl> & <dbl>\\\\\n",
       "\\hline\n",
       "\t1 & -13.5316 & -18.09107 & -4.693604 & -8.412984 & -21.19846 & -13.28995 & -12.64601 & 0.2838956 & -3.220113 & -14.29325 & ... & 1.340843 & 16.76609 & 7.27392 & -13.83289 & -54.41039 & -2.225641 & -4.7022 & 10.75558 & -8.922333 & -6.071511\\\\\n",
       "\\end{tabular}\n"
      ],
      "text/markdown": [
       "\n",
       "A data.frame: 1 × 200\n",
       "\n",
       "| <!--/--> | model1 &lt;dbl&gt; | model2 &lt;dbl&gt; | model3 &lt;dbl&gt; | model4 &lt;dbl&gt; | model5 &lt;dbl&gt; | model6 &lt;dbl&gt; | model7 &lt;dbl&gt; | model8 &lt;dbl&gt; | model9 &lt;dbl&gt; | model10 &lt;dbl&gt; | ... ... | model191 &lt;dbl&gt; | model192 &lt;dbl&gt; | model193 &lt;dbl&gt; | model194 &lt;dbl&gt; | model195 &lt;dbl&gt; | model196 &lt;dbl&gt; | model197 &lt;dbl&gt; | model198 &lt;dbl&gt; | model199 &lt;dbl&gt; | model200 &lt;dbl&gt; |\n",
       "|---|---|---|---|---|---|---|---|---|---|---|---|---|---|---|---|---|---|---|---|---|---|\n",
       "| 1 | -13.5316 | -18.09107 | -4.693604 | -8.412984 | -21.19846 | -13.28995 | -12.64601 | 0.2838956 | -3.220113 | -14.29325 | ... | 1.340843 | 16.76609 | 7.27392 | -13.83289 | -54.41039 | -2.225641 | -4.7022 | 10.75558 | -8.922333 | -6.071511 |\n",
       "\n"
      ],
      "text/plain": [
       "  model1   model2    model3    model4    model5    model6    model7   \n",
       "1 -13.5316 -18.09107 -4.693604 -8.412984 -21.19846 -13.28995 -12.64601\n",
       "  model8    model9    model10   ... model191 model192 model193 model194 \n",
       "1 0.2838956 -3.220113 -14.29325 ... 1.340843 16.76609 7.27392  -13.83289\n",
       "  model195  model196  model197 model198 model199  model200 \n",
       "1 -54.41039 -2.225641 -4.7022  10.75558 -8.922333 -6.071511"
      ]
     },
     "metadata": {},
     "output_type": "display_data"
    }
   ],
   "source": [
    "head(data.frame(Bayes.Regressor),1)"
   ]
  },
  {
   "cell_type": "code",
   "execution_count": 19,
   "id": "b5025d71",
   "metadata": {},
   "outputs": [],
   "source": [
    "TempLink1=data.frame(TempLink)\n",
    "models=data.frame(TempLink1,Bayes.Regressor)"
   ]
  },
  {
   "cell_type": "code",
   "execution_count": 20,
   "id": "b7522308",
   "metadata": {},
   "outputs": [
    {
     "name": "stderr",
     "output_type": "stream",
     "text": [
      "Warning message:\n",
      "\"package 'ggplot2' was built under R version 3.6.3\"\n"
     ]
    },
    {
     "data": {
      "image/png": "[encoded data removed]",
      "text/plain": [
       "plot without title"
      ]
     },
     "metadata": {
      "image/png": {
       "height": 420,
       "width": 420
      }
     },
     "output_type": "display_data"
    }
   ],
   "source": [
    "# PLOT for start value of parameters\n",
    "library(ggplot2)\n",
    "plot_start_param= ggplot(models , aes(y=temp,x = time)) +\n",
    "  labs(title =expression(paste(\"Linkoping Temperature\",\" \" ,mu[0],',',sigma[0],\",\",\n",
    "                               Omega[0],',',nu[0])),x = \"Time\", y=\"Tempreture\") + theme_minimal()\n",
    "\n",
    "for(i in names(models)[-c(1,2)]){\n",
    "  plot_start_param = plot_start_param +\n",
    "    geom_line(aes_string(y = i), color=\"blue\", alpha=0.2)\n",
    "}\n",
    "\n",
    "plot_start_param = plot_start_param +\n",
    "  geom_point(aes(y = temp), alpha=0.5,color='deeppink')\n",
    "plot_start_param"
   ]
  },
  {
   "cell_type": "code",
   "execution_count": 21,
   "id": "6db07c07",
   "metadata": {},
   "outputs": [
    {
     "data": {
      "text/html": [
       "<style>\n",
       ".dl-inline {width: auto; margin:0; padding: 0}\n",
       ".dl-inline>dt, .dl-inline>dd {float: none; width: auto; display: inline-block}\n",
       ".dl-inline>dt::after {content: \":\\0020\"; padding-right: .5ex}\n",
       ".dl-inline>dt:not(:first-of-type) {padding-left: .5ex}\n",
       "</style><dl class=dl-inline><dt>(Intercept)</dt><dd>-11.9556531804222</dd><dt>time</dt><dd>103.584049398349</dd><dt>I(time^2)</dt><dd>-95.4185189266561</dd></dl>\n"
      ],
      "text/latex": [
       "\\begin{description*}\n",
       "\\item[(Intercept)] -11.9556531804222\n",
       "\\item[time] 103.584049398349\n",
       "\\item[I(time\\textbackslash{}textasciicircum\\{\\}2)] -95.4185189266561\n",
       "\\end{description*}\n"
      ],
      "text/markdown": [
       "(Intercept)\n",
       ":   -11.9556531804222time\n",
       ":   103.584049398349I(time^2)\n",
       ":   -95.4185189266561\n",
       "\n"
      ],
      "text/plain": [
       "(Intercept)        time   I(time^2) \n",
       "  -11.95565   103.58405   -95.41852 "
      ]
     },
     "metadata": {},
     "output_type": "display_data"
    }
   ],
   "source": [
    "lmTemp$coefficients"
   ]
  },
  {
   "cell_type": "markdown",
   "id": "b0fef95f",
   "metadata": {},
   "source": [
    "### adjusting $\\mu_0, \\Omega_0, \\nu_0, \\sigma_0$\n",
    "\n",
    "The sarting value results to very high value for temptature(ie. $150^\\text{o} C $). This is unreasable for swedish weather, To achieve better prior we adjuster the model parameter as fowllowing:\n",
    "\n",
    "we decided to set the initial value of $\\mu_0$ to the `lmTemp$coefficients` we calculated earliear. \n",
    "\n",
    "$\\mu_0 = (-12,103,-95)$.\n",
    "\n",
    "From the above plot we see lots of variation in the models so we decided to reduce the value of $\\sigma_0$ to $0.03$. This decision was made by trial and error.\n",
    "\n",
    "we also increased the value of $\\nu_0$ to $10$. "
   ]
  },
  {
   "cell_type": "code",
   "execution_count": 22,
   "id": "77d03231",
   "metadata": {},
   "outputs": [
    {
     "data": {
      "image/png": "[encoded data removed]",
      "text/plain": [
       "plot without title"
      ]
     },
     "metadata": {
      "image/png": {
       "height": 420,
       "width": 420
      }
     },
     "output_type": "display_data"
    }
   ],
   "source": [
    "mu.0 = c(-11, 103,-95)\n",
    "omega.0 = 0.01*diag(3)\n",
    "nu.0 = 10\n",
    "sigma2.0 =  0.03\n",
    "NDraws=100\n",
    "Bayes.Regressor2 = matrix(,length(time),NDraws)\n",
    "ErrorTerm2 = numeric(NDraws)\n",
    "sigma22 = numeric(NDraws)\n",
    "BetaList2 = matrix(,NDraws,3)\n",
    "colnames(BetaList2) = c('B0','B1','B2')\n",
    "for(i in 1:NDraws){\n",
    "    sigma22[i] = sigma2.prior()\n",
    "    BetaList2[i,1] = Beta.prior(sigma22[i])[1]\n",
    "    BetaList2[i,2] = Beta.prior(sigma22[i])[2]\n",
    "    BetaList2[i,3] = Beta.prior(sigma22[i])[3]\n",
    "    ErrorTerm[i] = rnorm(1,mean = 0,sd = sqrt(sigma22))\n",
    "}\n",
    "for(i in 1:NDraws){\n",
    "    Bayes.Regressor2[,i]= BetaList2[i,1] +BetaList2[i,2]*time + BetaList2[i,3]*(time^2) + ErrorTerm2[i]\n",
    "}\n",
    "TempLink2=data.frame(TempLink)\n",
    "models2=data.frame(TempLink2,Bayes.Regressor2)\n",
    "plot_new_param= ggplot(models2 , aes(y=temp,x = time)) +\n",
    "  labs(title =expression(paste(\"Linkoping Temperature revised value for \",\" \" ,mu[0],',',sigma[0],\",\",\n",
    "                               Omega[0],',',nu[0])),x = \"Time\", y=\"Tempreture\") + theme_minimal()\n",
    "\n",
    "for(i in names(models2)[-c(1,2)]){\n",
    "  plot_new_param = plot_new_param +\n",
    "    geom_line(aes_string(y = i), color=\"blue\", alpha=0.2)\n",
    "}\n",
    "\n",
    "plot_new_param = plot_new_param +\n",
    "  geom_point(aes(y = temp), alpha=0.5,color='deeppink')\n",
    "plot_new_param"
   ]
  },
  {
   "cell_type": "markdown",
   "id": "046c2d91",
   "metadata": {},
   "source": [
    "___________________________________________________________________"
   ]
  },
  {
   "cell_type": "markdown",
   "id": "3fea8cd5",
   "metadata": {},
   "source": [
    "\n",
    "## b)  \n",
    " "
   ]
  },
  {
   "cell_type": "markdown",
   "id": "9c9e3fd5",
   "metadata": {},
   "source": [
    "*Write a program that simulates from the joint posterior distribution of $\\beta_0,\\beta_1,\\beta_2$ and $\\sigma^2$.*\n",
    "\n",
    "- Plot the marginal posteriors for each parameter as a histogram.\n",
    "\n",
    "- make a scatter plot of the temperature data and overlay a curve for the posterior median of the regression function $f(time) = \\beta_0 + \\beta_1\\cdot \\text{time} + \\beta_2 \\cdot \\text{time}^2$, i.e. the median is computed for every value of time. In addition, overlay curves for the 95% equal tail posterior probability intervals of $f(time)$, ie. the 2.5 and 97.5 posterior percentiles is computed for every value of time. Does the posterior probability intervals contain most of the data points?Should they?"
   ]
  },
  {
   "cell_type": "markdown",
   "id": "4da7f264",
   "metadata": {},
   "source": [
    "\n",
    "### The joint posterior distribution \n",
    "\n",
    "from  Slide\n",
    "\\begin{equation*}\n",
    "  \\begin{split}\n",
    "    \\sigma^2 \\mid y \\sim Inv-\\chi^2(\\nu_n,\\sigma_n^2) \\\\\n",
    "    \\beta \\mid \\sigma^2,y \\sim \\mathcal N(\\mu_n,\\sigma^2\\Omega_n^{-1})\n",
    "  \\end{split}\n",
    "  \\label{eq:pos} \\tag{3}\n",
    "\\end{equation*}\n",
    "\n",
    " new parameters are: \n",
    "\n",
    "\\begin{equation*}\n",
    "  \\begin{split}\n",
    "    \\Omega_n =& \\; X^TX + \\Omega_0 \\\\\n",
    "    \\mu_n =& \\; (X^TX + \\Omega_0)^{-1}(X^TX\\hat{\\beta} + \\Omega_0\\mu_0) \\\\\n",
    "    \\nu_n =& \\; \\nu_0 + n \\\\\n",
    "    \\sigma_n^2 =& \\; \\frac{1}{\\nu_n}[\\nu_0\\sigma_0^2 + \n",
    "    (y^Ty + \\mu_0^T\\Omega_0\\mu_0 - \\mu_n^T\\Omega_n\\mu_n)]\n",
    "  \\end{split}\n",
    "\\end{equation*}\n"
   ]
  },
  {
   "cell_type": "code",
   "execution_count": 23,
   "id": "fd23f094",
   "metadata": {},
   "outputs": [],
   "source": [
    "X=model.matrix(lmTemp)\n",
    "y = temp\n",
    "# setting the initial values\n",
    "mu.0 =  c(-11, 103,-95)\n",
    "omega.0 = 0.01*diag(3)\n",
    "nu.0 = 4\n",
    "sigma2.0 = 1\n",
    "n = dim(X)[1]\n",
    "NDraws = 1000"
   ]
  },
  {
   "cell_type": "code",
   "execution_count": 24,
   "id": "8f3a5f7f",
   "metadata": {},
   "outputs": [],
   "source": [
    "omega.n = t(X) %*% X + omega.0\n",
    "nu.n = nu.0 + n -3 \n",
    "betaHat = solve(t(X) %*% X) %*% t(X) %*% y\n",
    "mu.n = solve(t(X) %*% X + omega.0) %*% (t(X) %*% X %*% betaHat + omega.0 %*% mu.0)\n",
    "sigma2.n = (nu.0 * sigma2.0 + (t(y) %*% y + t(mu.0) %*% omega.0%*% mu.0 - t(mu.n) %*% omega.n %*% mu.n)) / nu.n"
   ]
  },
  {
   "cell_type": "code",
   "execution_count": 25,
   "id": "522cea26",
   "metadata": {},
   "outputs": [],
   "source": [
    "sigma2n.pos = numeric(NDraws)\n",
    "BetaList2n.pos = matrix(,NDraws,3)\n",
    "colnames(BetaList2n.pos)=c('B0','B1','B2')\n",
    "pos.sigma2 <- function(nu.n,sigma2.n){\n",
    "    rinvchisq(1,n = nu.n,tau = sigma2.n)\n",
    "    \n",
    "}\n",
    "pos.Beta <- function(sigma2_n,mu_n,omega_n){\n",
    "    rmvnorm(1, mu_n, solve(omega_n)*as.numeric(sigma2_n))\n",
    "}\n",
    "\n",
    "for (i in 1:NDraws ){\n",
    "    sigma2n.pos[i] = pos.sigma2(nu.n,sigma2.n)\n",
    "    BetaList2n.pos[i,] = pos.Beta(sigma2_n = sigma2.n,mu_n = mu.n,omega_n = omega.n)\n",
    "}"
   ]
  },
  {
   "cell_type": "markdown",
   "id": "2a1630da",
   "metadata": {},
   "source": [
    "we now plot the marginal posteriors for each parameter as a histogram. We draws 1000 sample for $\\sigma_n$ and then use these samples to draw  $\\beta$ from $\\eqref{eq:pos}$. The reason to do sampling is because we do not have a closed form for the joint posterior density and we can not obtain marginal density by integration."
   ]
  },
  {
   "cell_type": "code",
   "execution_count": 26,
   "id": "e564a081",
   "metadata": {},
   "outputs": [
    {
     "data": {
      "image/png": "[encoded data removed]",
      "text/plain": [
       "Plot with title \"paste(\"Histogram of\", \" \", sigma[n])\""
      ]
     },
     "metadata": {
      "image/png": {
       "height": 420,
       "width": 420
      }
     },
     "output_type": "display_data"
    }
   ],
   "source": [
    "par(mfrow=c(2,2))\n",
    "p1 =hist(BetaList2n.pos[,1],breaks = 20,probability = TRUE,\n",
    "         xlab = expression(beta[0]),col='khaki1',main=expression(paste('Histogram of',\" \" ,beta[0])))\n",
    "lines(density(BetaList2n.pos[,1]),lwd=3,col='blue')\n",
    "p2 = hist(BetaList2n.pos[,2],breaks = 20,probability = TRUE,\n",
    "          xlab = expression(beta[2]),col='khaki1',main=expression(paste('Histogram of',\" \" ,beta[1])))\n",
    "lines(density(BetaList2n.pos[,2]),lwd=3,col='blue')\n",
    "\n",
    "p3 = hist(BetaList2n.pos[,3],breaks = 20,probability = TRUE,\n",
    "          xlab = expression(beta[3]),col='khaki1',main=expression(paste('Histogram of',\" \" ,beta[2])))\n",
    "lines(density(BetaList2n.pos[,3]),lwd=3,col='blue')\n",
    "\n",
    "p4= hist(sigma2n.pos,probability=TRUE,col='khaki1',\n",
    "         xlab = expression(sigma[n]),breaks=20,,main=expression(paste('Histogram of',\" \" ,sigma[n])))\n",
    "lines(density(sigma2n.pos),lwd=3,col='blue')"
   ]
  },
  {
   "cell_type": "markdown",
   "id": "b75b82af",
   "metadata": {},
   "source": [
    "we now calculate the median for every $\\beta$."
   ]
  },
  {
   "cell_type": "code",
   "execution_count": 27,
   "id": "a1ee4e14",
   "metadata": {},
   "outputs": [],
   "source": [
    "Beta.median = apply ( BetaList2n.pos , 2, median )"
   ]
  },
  {
   "cell_type": "code",
   "execution_count": 28,
   "id": "f0552af1",
   "metadata": {},
   "outputs": [],
   "source": [
    "f.time.median = Beta.median %*% t(X)"
   ]
  },
  {
   "cell_type": "code",
   "execution_count": 29,
   "id": "956fc675",
   "metadata": {},
   "outputs": [
    {
     "data": {
      "text/html": [
       "365"
      ],
      "text/latex": [
       "365"
      ],
      "text/markdown": [
       "365"
      ],
      "text/plain": [
       "[1] 365"
      ]
     },
     "metadata": {},
     "output_type": "display_data"
    }
   ],
   "source": [
    "length(f.time.median)"
   ]
  },
  {
   "cell_type": "code",
   "execution_count": 30,
   "id": "960d032b",
   "metadata": {},
   "outputs": [],
   "source": [
    "# Estimation of the whole dataset with 1000 different beta parameters\n",
    "ypost = BetaList2n.pos %*% t(X)"
   ]
  },
  {
   "cell_type": "code",
   "execution_count": 31,
   "id": "81c0936b",
   "metadata": {},
   "outputs": [],
   "source": [
    "CI <- matrix(, n, 2)\n",
    "colnames(CI) <- c(\"lower\",\"upper\")"
   ]
  },
  {
   "cell_type": "code",
   "execution_count": 32,
   "id": "66545bf5",
   "metadata": {},
   "outputs": [],
   "source": [
    "# calculate the 95% credible interval\n",
    "for(i in 1:n){\n",
    "CI[i,] <- quantile( ypost[,i], probs = c(0.025,0.975))\n",
    "}"
   ]
  },
  {
   "cell_type": "code",
   "execution_count": 33,
   "id": "b0aba044",
   "metadata": {},
   "outputs": [
    {
     "data": {
      "image/png": "[encoded data removed]",
      "text/plain": [
       "plot without title"
      ]
     },
     "metadata": {
      "image/png": {
       "height": 420,
       "width": 420
      }
     },
     "output_type": "display_data"
    }
   ],
   "source": [
    "plot(y=temp,x=time,lwd=2,pch=19,col = 'darkblue')\n",
    "lines ( y = CI[ ,2] ,x= time , col= \" brown \",lwd=3,lty = 3)\n",
    "lines ( y = CI[ ,1] ,x= time , col= \" brown \",lwd=3, lty = 3)\n",
    "lines (y=f.time.median  ,x= time ,col =\"darkolivegreen\",lwd=2)\n",
    "legend(\"topright\",c('median','Credible interval'),lty=c(1:3),lwd=c(2,3),col=c('darkolivegreen','brown'),bg='lightgrey')"
   ]
  },
  {
   "cell_type": "markdown",
   "id": "dee3352a",
   "metadata": {},
   "source": [
    "The credible interval does not contain most of the data points. This in because the credible interval was constructed out of different value of beta, and not the variation in the model."
   ]
  },
  {
   "cell_type": "markdown",
   "id": "e062b01e",
   "metadata": {},
   "source": [
    "____________________________________________________________"
   ]
  },
  {
   "cell_type": "markdown",
   "id": "66378019",
   "metadata": {},
   "source": [
    "## (c)"
   ]
  },
  {
   "cell_type": "markdown",
   "id": "b015f328",
   "metadata": {},
   "source": [
    "*It is of interest to locate the **time** with the highest expected temperature (that is, the time where $f(\\ time)$ is maximal). Let's call this value $\\widetilde{x}$. Use the simulations in b) to simulate from the posterior distribution of $\\widetilde{x}$.[Hint: the regression curve is a quadratic. You can find a simple formula for $\\widetilde{x}$ given $\\beta_0, \\beta_1$ and $\\beta_2$.]*"
   ]
  },
  {
   "cell_type": "code",
   "execution_count": 34,
   "id": "d02f9577",
   "metadata": {},
   "outputs": [
    {
     "data": {
      "text/html": [
       "<style>\n",
       ".list-inline {list-style: none; margin:0; padding: 0}\n",
       ".list-inline>li {display: inline-block}\n",
       ".list-inline>li:not(:last-child)::after {content: \"\\00b7\"; padding: 0 .5ex}\n",
       "</style>\n",
       "<ol class=list-inline><li>1000</li><li>365</li></ol>\n"
      ],
      "text/latex": [
       "\\begin{enumerate*}\n",
       "\\item 1000\n",
       "\\item 365\n",
       "\\end{enumerate*}\n"
      ],
      "text/markdown": [
       "1. 1000\n",
       "2. 365\n",
       "\n",
       "\n"
      ],
      "text/plain": [
       "[1] 1000  365"
      ]
     },
     "metadata": {},
     "output_type": "display_data"
    }
   ],
   "source": [
    "dim(ypost)"
   ]
  },
  {
   "cell_type": "code",
   "execution_count": 35,
   "id": "6e4c29d6",
   "metadata": {},
   "outputs": [],
   "source": [
    "highest.Temp = numeric(n)\n",
    "highest.Temp = apply(ypost,2,max)"
   ]
  },
  {
   "cell_type": "markdown",
   "id": "8b04844f",
   "metadata": {},
   "source": [
    "To find the highest temprature we simply take derivatives of bayesian linear regression:\n",
    "\n",
    "\n",
    "\\begin{equation*}\n",
    "  \\begin{split}\n",
    "    f(time) = \\beta_0 + \\beta_1 \\cdot time + \\beta_2 \\cdot time^2 \\quad \n",
    "   \\\\ \\rightarrow \\quad \\frac{\\partial f(time)}{\\partial time} = \\beta_1 + 2\\beta_2 \n",
    "    \\cdot time = 0 \\quad\\\\ \\rightarrow \\quad \\tilde x = \\frac{-\\beta_1}{2\\beta_2}\n",
    "  \\end{split}\n",
    "\\end{equation*}\n"
   ]
  },
  {
   "cell_type": "code",
   "execution_count": 36,
   "id": "5face470",
   "metadata": {
    "scrolled": true
   },
   "outputs": [
    {
     "data": {
      "image/png": "[encoded data removed]",
      "text/plain": [
       "Plot with title \"Histogram of X.tilda\""
      ]
     },
     "metadata": {
      "image/png": {
       "height": 420,
       "width": 420
      }
     },
     "output_type": "display_data"
    }
   ],
   "source": [
    "X.tilda <- (-1*BetaList2n.pos[,2])/(2*BetaList2n.pos[,3])\n",
    "hist(X.tilda,probability = TRUE,breaks = 20,col='lightblue')\n",
    "lines(density(X.tilda),lwd=3,lty=3,col='darkviolet')"
   ]
  },
  {
   "cell_type": "markdown",
   "id": "973e3df8",
   "metadata": {},
   "source": [
    "***"
   ]
  },
  {
   "cell_type": "markdown",
   "id": "b88ea9d7",
   "metadata": {},
   "source": [
    "## ( d)"
   ]
  },
  {
   "cell_type": "markdown",
   "id": "748e34c0",
   "metadata": {},
   "source": [
    "*Say now that you want to estimate a **polynomial model of order 7**,\n",
    "but you suspect that higher order terms may not be needed, and you worry \n",
    "about overfitting. Suggest a suitable prior that mitigates this potential problem. \n",
    "You do not need to compute the posterior, just write down your prior. \n",
    "[Hint: the task is to specify $\\mu_0$ and $\\Omega_0$ in a suitable way.]*"
   ]
  },
  {
   "cell_type": "markdown",
   "id": "a477d461",
   "metadata": {},
   "source": [
    "To avoid overfitting we can use Regularization. Ridge rigression and LASSO could help the potential problem. However, in Ridge Regression the coefficients are not exactly set to zero. If our goal is to set some of the order to 0, LASSO should be our choice.\n",
    "Using LASSO is equivalent to posterior mode under Laplace prior. where $\\mu_0=0$ and\n",
    " $\\Omega_0$ is diagonal matrix with $\\lambda$ values on diagonal, larger $\\lambda$  results in more shrinkage = less overfitting\n",
    "     \n",
    "\\begin{equation*}\n",
    "  \\beta \\mid \\sigma^2 \\sim Laplace\\left(0, \\frac{\\sigma^2}{\\lambda}\\right)\n",
    "\\end{equation*}\n",
    "\n",
    "we can determine the value of $\\lambda$ by cross-validation. we can also set a prior on $\\lambda$\n",
    "\n",
    "<img src=\"lamda.png\" alt=\"lamda\" style=\"width: 490px;\"/>"
   ]
  },
  {
   "cell_type": "markdown",
   "id": "416ac1ba",
   "metadata": {},
   "source": [
    "****"
   ]
  },
  {
   "cell_type": "markdown",
   "id": "09cd7c63",
   "metadata": {},
   "source": [
    "\n",
    "# 2. Posterior approximation for classification with logistic regression\n",
    "\n",
    "**Description :** The data WomenWork.dat contains 200 observations about the 8 variables about women which are to be used for predicting whether or not the woman work as repsonse variable(Work).\n",
    "\n",
    "### a.\n",
    "\n",
    "Below is the logistic regression model which gives us the probability that women works given the input data.\n",
    "\n",
    " $$Pr(y = 1 | x) = \\frac{exp(x^{T} \\beta)}{1 + exp(x^{T} \\beta)}$$\n",
    "\n",
    "The goal is to approximate the posterior distribution of the parameter vector $\\beta$ with a multivariate normal distribution.\n",
    "\n",
    " $$\\beta|y,x \\sim N(\\tilde\\beta,J^{-1}_{y}(\\tilde\\beta)),$$ \n",
    "\n",
    "Here, $\\tilde\\beta$ is the posterior mode and $J^{-1}_{y}(\\tilde\\beta)$ is the inverse of negative hessian matrix of posterior mode.\n"
   ]
  },
  {
   "cell_type": "code",
   "execution_count": 37,
   "id": "9fdb7b85",
   "metadata": {},
   "outputs": [],
   "source": [
    "library(mvtnorm)\n",
    "ww_data <- read.table('WomenWork.dat', header = TRUE)\n",
    "rows <- nrow(ww_data)\n",
    "cols <- ncol(ww_data)\n",
    "y <- as.matrix(ww_data[1])\n",
    "X <- as.matrix(ww_data[,2:cols])"
   ]
  },
  {
   "cell_type": "markdown",
   "id": "de67692f",
   "metadata": {},
   "source": [
    "\n",
    "The optim values of the regression coefficients of the input variables are obtained using optim function"
   ]
  },
  {
   "cell_type": "code",
   "execution_count": 38,
   "id": "d519633b",
   "metadata": {},
   "outputs": [],
   "source": [
    "params <- dim(X)[2]\n",
    "mu <- as.matrix(rep(0,params))\n",
    "tau = 10\n",
    "Sigma = (tau^2)*diag(params)\n",
    "\n",
    "LogPostLogistic <- function(betas,y,X,mu,Sigma){\n",
    "  linPred <- X%*%betas;\n",
    "  logLik <- sum(linPred*y - log(1 + exp(linPred)))\n",
    "  logPrior <- dmvnorm(betas, mu, Sigma, log=TRUE)\n",
    "  \n",
    "  return(logLik + logPrior)\n",
    "}\n",
    "\n",
    "initValue <- matrix(0,params,1)\n",
    "\n",
    "# Optimum beta(coefficient) are calculated\n",
    "OptimRes <- optim(initValue,\n",
    "                  LogPostLogistic, gr=NULL, y, X, mu, Sigma, method=c(\"BFGS\"),\n",
    "                  control=list(fnscale=-1), hessian=TRUE)"
   ]
  },
  {
   "cell_type": "code",
   "execution_count": 39,
   "id": "45e39969",
   "metadata": {},
   "outputs": [
    {
     "name": "stdout",
     "output_type": "stream",
     "text": [
      "[1] \"Posterior Mode: \"\n",
      "            [,1]\n",
      "[1,]  0.62672884\n",
      "[2,] -0.01979113\n",
      "[3,]  0.18021897\n",
      "[4,]  0.16756670\n",
      "[5,] -0.14459669\n",
      "[6,] -0.08206561\n",
      "[7,] -1.35913317\n",
      "[8,] -0.02468351\n",
      "[1] \"Inverse of hessian matrix\"\n",
      "             [,1]          [,2]          [,3]          [,4]          [,5]\n",
      "[1,] -2.266022546 -3.338861e-03  6.545120e-02  1.179140e-02 -0.0457807242\n",
      "[2,] -0.003338861 -2.528045e-04  5.610225e-04  3.125413e-05 -0.0001414915\n",
      "[3,]  0.065451205  5.610225e-04 -6.218199e-03  3.558209e-04 -0.0018962893\n",
      "[4,]  0.011791404  3.125413e-05  3.558209e-04 -4.351716e-03  0.0142490853\n",
      "[5,] -0.045780724 -1.414915e-04 -1.896289e-03  1.424909e-02 -0.0555786706\n",
      "[6,]  0.030293449  3.588562e-05  3.240460e-06  1.340888e-04  0.0003299398\n",
      "[7,]  0.188748357 -5.066847e-04  6.134564e-03  1.468951e-03 -0.0032082534\n",
      "[8,]  0.098023927  1.444223e-04 -1.752732e-03 -5.437105e-04 -0.0005120144\n",
      "              [,6]          [,7]          [,8]\n",
      "[1,]  3.029345e-02  0.1887483570  0.0980239275\n",
      "[2,]  3.588562e-05 -0.0005066847  0.0001444223\n",
      "[3,]  3.240460e-06  0.0061345644 -0.0017527316\n",
      "[4,]  1.340888e-04  0.0014689508 -0.0005437105\n",
      "[5,]  3.299398e-04 -0.0032082534 -0.0005120144\n",
      "[6,] -7.184611e-04 -0.0051841612 -0.0010952903\n",
      "[7,] -5.184161e-03 -0.1512621821 -0.0067688741\n",
      "[8,] -1.095290e-03 -0.0067688741 -0.0199722657\n"
     ]
    }
   ],
   "source": [
    "print('Posterior Mode: ')\n",
    "print(OptimRes$par)\n",
    "print('Inverse of hessian matrix')\n",
    "inversehessian <- solve(OptimRes$hessian)\n",
    "print(inversehessian)"
   ]
  },
  {
   "cell_type": "code",
   "execution_count": 40,
   "id": "8649aa01",
   "metadata": {},
   "outputs": [
    {
     "name": "stdout",
     "output_type": "stream",
     "text": [
      "[1] \"Estimtes obtained using GLM model:\"\n",
      "   Constant  HusbandInc   EducYears    ExpYears   ExpYears2         Age \n",
      " 0.64430363 -0.01977457  0.17988062  0.16751274 -0.14435946 -0.08234033 \n",
      "NSmallChild   NBigChild \n",
      "-1.36250239 -0.02542986 \n"
     ]
    }
   ],
   "source": [
    "print('Estimtes obtained using GLM model:')\n",
    "print(glm(Work ~ 0 + ., data = ww_data, family = binomial)$coefficients)"
   ]
  },
  {
   "cell_type": "markdown",
   "id": "083acaac",
   "metadata": {},
   "source": [
    "As observed from coefficients obtained using GLM model and from using bayesian approximation, we can say that the values are mostly similar.\n"
   ]
  },
  {
   "cell_type": "code",
   "execution_count": 41,
   "id": "b21f8031",
   "metadata": {},
   "outputs": [],
   "source": [
    "beta_post <- OptimRes$par\n",
    "names(beta_post) <- colnames(ww_data[,2:cols])\n",
    "approx_par_NSC <- rnorm(1000,beta_post['NSmallChild'],-inversehessian[7,7])\n",
    "lowerInterval <- quantile(approx_par_NSC,0.05)\n",
    "upperInterval <- quantile(approx_par_NSC, 0.95)"
   ]
  },
  {
   "cell_type": "code",
   "execution_count": 42,
   "id": "cf5337d4",
   "metadata": {},
   "outputs": [
    {
     "data": {
      "image/png": "[encoded data removed]",
      "text/plain": [
       "Plot with title \"95% Posterior Probability Interval of NSmallChild variable\""
      ]
     },
     "metadata": {
      "image/png": {
       "height": 420,
       "width": 420
      }
     },
     "output_type": "display_data"
    }
   ],
   "source": [
    "plot(density(approx_par_NSC),lwd = 3,main = '95% Posterior Probability Interval of NSmallChild variable')\n",
    "polygon(density(approx_par_NSC), col = 'lightblue2')\n",
    "abline(v = lowerInterval, col = 'red', lwd = 3)\n",
    "abline(v = upperInterval, col = 'red', lwd = 3)\n",
    "arrows(lowerInterval,0.3,upperInterval,0.3,length = 0.1,col = 'black',lwd = 3)\n",
    "arrows(upperInterval,0.3,lowerInterval,0.3,length = 0.1,col = 'black',lwd = 3)\n",
    "text(-1.4,0.5, '95% CI', lwd = 3,cex = 1.3)"
   ]
  },
  {
   "cell_type": "markdown",
   "id": "45c63e42",
   "metadata": {},
   "source": [
    "**Would you say that this feature is of importance for the probability that a women works?**\n",
    "\n",
    "According to the results of the parameters obtained above, the coefficient of NSmallChild is around -1.36 which is the lowest among the remaining coefficients. It can be said that, this variable is negatively impacting to the probability of women works which looks reasonable from general point of view (women taking care of child).\n",
    "\n",
    "### b. Simulation of draws from Posterior predictive distribution of $Pr(y = 1 | x)$\n",
    "\n",
    "The given values of the variable for the women are:\n",
    "\n",
    "HusbandInc: 13, EducYears: 8, ExpYears:11, Age:37, NSmallChild:2, NBigChild:0"
   ]
  },
  {
   "cell_type": "code",
   "execution_count": 43,
   "id": "4a6e7bea",
   "metadata": {},
   "outputs": [],
   "source": [
    "posteriorPredictive <- function(x, beta_post, inversehessian){\n",
    "  post_sample <- rmvnorm(1, beta_post,-inversehessian)\n",
    "  logist_prob <- (exp(x %*% t(post_sample)))/(1 + exp(x %*% t(post_sample)))\n",
    "  return(logist_prob)\n",
    "}"
   ]
  },
  {
   "cell_type": "code",
   "execution_count": 44,
   "id": "792a95e7",
   "metadata": {},
   "outputs": [
    {
     "data": {
      "image/png": "[encoded data removed]",
      "text/plain": [
       "Plot with title \"Posterior Predictive Plot\""
      ]
     },
     "metadata": {
      "image/png": {
       "height": 420,
       "width": 420
      }
     },
     "output_type": "display_data"
    }
   ],
   "source": [
    "x <- c(1,13, 8, 11, (11/10)^2, 37, 2, 0)\n",
    "nsamples = 1000\n",
    "post_predict <- c(rep(0,nsamples))\n",
    "for(i in 1:nsamples){\n",
    "  post_predict[i] <- posteriorPredictive(x, beta_post, inversehessian)\n",
    "}\n",
    "#print(post_predict)\n",
    "hist(post_predict, breaks = 100, \n",
    "     col = 'lightblue2',lwd = 3,\n",
    "     xlab = 'Pr(y=1|X)',\n",
    "     main = 'Posterior Predictive Plot')\n",
    "lines(density(post_predict), col = 'red',lwd = 3)\n",
    "polygon(density(post_predict), col = rgb(red = 0, green = 0, blue = 1, alpha = 0.5))"
   ]
  },
  {
   "cell_type": "markdown",
   "id": "8a98e728",
   "metadata": {},
   "source": [
    "# c. Posterior predictive distribution for the number of women working.\n",
    "\n",
    "Here, 8 women with similar features as above are considered and the probabilities of how many them work are predicted.\n"
   ]
  },
  {
   "cell_type": "code",
   "execution_count": 45,
   "id": "a18470a9",
   "metadata": {},
   "outputs": [],
   "source": [
    "posteriorPredictiveBinomial <- function(x, beta_post, inversehessian){\n",
    "  post_sample <- rmvnorm(1, beta_post,-inversehessian)\n",
    "  logist_prob1 <- (exp(x %*% t(post_sample)))/(1 + exp(x %*% t(post_sample)))\n",
    "  logist_prob <- sum(rbinom(1,8,logist_prob1))\n",
    "  return(logist_prob)\n",
    "}"
   ]
  },
  {
   "cell_type": "code",
   "execution_count": 46,
   "id": "3c857fc1",
   "metadata": {},
   "outputs": [
    {
     "data": {
      "image/png": "[encoded data removed]",
      "text/plain": [
       "Plot with title \"Histogram of number of women who works \""
      ]
     },
     "metadata": {
      "image/png": {
       "height": 420,
       "width": 420
      }
     },
     "output_type": "display_data"
    }
   ],
   "source": [
    "test_data <- matrix(x,nrow=8, ncol=8,byrow = TRUE)\n",
    "nsamples = 1000\n",
    "post_predict <- c(rep(0,nsamples))\n",
    "for(i in 1:nsamples){\n",
    "  post_predict[i] <- posteriorPredictiveBinomial(test_data, beta_post, inversehessian)\n",
    "}\n",
    "hist(post_predict,breaks = 100,col = 'lightblue2',\n",
    "     xlab = 'Number of women who works',\n",
    "     main = 'Histogram of number of women who works ')"
   ]
  }
 ],
 "metadata": {
  "kernelspec": {
   "display_name": "R",
   "language": "R",
   "name": "ir"
  },
  "language_info": {
   "codemirror_mode": "r",
   "file_extension": ".r",
   "mimetype": "text/x-r-source",
   "name": "R",
   "pygments_lexer": "r",
   "version": "3.6.1"
  },
  "latex_envs": {
   "LaTeX_envs_menu_present": false,
   "autoclose": false,
   "autocomplete": true,
   "bibliofile": "biblio.bib",
   "cite_by": "number",
   "current_citInitial": 1,
   "eqLabelWithNumbers": true,
   "eqNumInitial": 1,
   "hotkeys": {
    "equation": "Ctrl-E",
    "itemize": "Ctrl-I"
   },
   "labels_anchors": true,
   "latex_user_defs": false,
   "report_style_numbering": false,
   "user_envs_cfg": false
  },
  "toc": {
   "base_numbering": 1,
   "nav_menu": {},
   "number_sections": false,
   "sideBar": true,
   "skip_h1_title": false,
   "title_cell": "Table of Contents",
   "title_sidebar": "Contents",
   "toc_cell": false,
   "toc_position": {},
   "toc_section_display": true,
   "toc_window_display": false
  },
  "varInspector": {
   "cols": {
    "lenName": 16,
    "lenType": 16,
    "lenVar": 40
   },
   "kernels_config": {
    "python": {
     "delete_cmd_postfix": "",
     "delete_cmd_prefix": "del ",
     "library": "var_list.py",
     "varRefreshCmd": "print(var_dic_list())"
    },
    "r": {
     "delete_cmd_postfix": ") ",
     "delete_cmd_prefix": "rm(",
     "library": "var_list.r",
     "varRefreshCmd": "cat(var_dic_list()) "
    }
   },
   "types_to_exclude": [
    "module",
    "function",
    "builtin_function_or_method",
    "instance",
    "_Feature"
   ],
   "window_display": false
  }
 },
 "nbformat": 4,
 "nbformat_minor": 5
}
