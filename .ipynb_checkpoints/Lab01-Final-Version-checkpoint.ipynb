{
 "cells": [
  {
   "cell_type": "markdown",
   "id": "18a1134e",
   "metadata": {},
   "source": [
    " \n",
    "#  <font color='darkblue'> Bayesian Learning (732A73) Lab 1</font> \n",
    "\n"
   ]
  },
  {
   "cell_type": "markdown",
   "id": "5a0c84a8",
   "metadata": {},
   "source": [
    "<center><font color='brown'>Hoda Fakharzadehjahromy (hodfa840),  Ravinder Alta (ravat601)</font></center>"
   ]
  },
  {
   "cell_type": "markdown",
   "id": "03afbf58",
   "metadata": {},
   "source": [
    "# Assisgnment 1\n",
    "\n",
    "## Daniel Bernoulli"
   ]
  },
  {
   "cell_type": "markdown",
   "id": "9dea709f",
   "metadata": {},
   "source": [
    "### Bernoulli ...again."
   ]
  },
  {
   "cell_type": "markdown",
   "id": "f7cfdb48",
   "metadata": {},
   "source": [
    "Let  $y_{1},...,y_{n}|\\theta\\sim\\mathrm{Bern}(\\theta)$  and assume that you have obtained a sample with $s=8$ successes in $n=24$  trials.\n",
    " Assume a $\\mathrm{Beta}(\\alpha_{0},\\beta_{0})$ prior for  $\\theta$ and let $\\alpha_{0}=\\beta_{0}=3$\n",
    "\n",
    "\n",
    "*(a )Draw random numbers from the posterior $\\theta\\vert y\\sim\\mathrm{Beta}(\\alpha_{0}+s,\\beta_{0}+f)$, where\n",
    "$y=(y_{1},\\dots,y_{n}),$; and verify graphically that the posterior mean and standard\n",
    "deviation converges to the true values as the number of random draws grows\n",
    "large.*\n",
    "\n",
    "*(b) Use simulation (nDraws = 10000) to compute the posterior probability* $\\mathrm{Pr}(\\theta<0.4\\vert y)$ *and compare with the exact value.*\n",
    "\n",
    "*(c) Compute the posterior distribution of the log-odds $\\phi=\\log\\frac{\\theta}{1-\\theta}$  (nDraws = 10000)*"
   ]
  },
  {
   "cell_type": "markdown",
   "id": "1d9652db",
   "metadata": {},
   "source": [
    "### (a)\n",
    "\n",
    "True mean for $Beta(\\alpha,\\beta)$ is:\n",
    "$$ E[\\theta] = \\frac{\\alpha}{\\alpha + \\beta} $$ \n",
    "True $\\sigma^2$ for $Beta(\\alpha,\\beta)$ is:\n",
    "$$ \\sigma^2(\\theta) =\\frac{\\alpha\\beta}{(\\alpha + \\beta)^2(\\alpha + \\beta + 1)}$$\n",
    "The prior function for this problem is:\n",
    "$$p(\\theta) \\propto \\theta ^{{\\alpha_0} - 1}(1-\\theta^{{\\beta_0} - 1})$$\n",
    "\n",
    "The likelihood function is :\n",
    "$$ p(y_1,...,y_n | \\theta) \\propto \\prod_{i=1}^n p(y_i | \\theta) = \\prod_{i=1}^n \\theta^{y_i} (1 - \\theta)^{1 - y_i}=\\theta^s (1 - \\theta)^f$$\n",
    "\n",
    "posterior is :\n",
    "\n",
    "posterior\n",
    "$$ p(\\theta | y) \\propto Beta (\\alpha_0 + s, \\beta_0 + f ) = Beta (11,19) $$ \n",
    "\n"
   ]
  },
  {
   "cell_type": "code",
   "execution_count": 1,
   "id": "9a44d673",
   "metadata": {},
   "outputs": [],
   "source": [
    "s = 8\n",
    "n = 24\n",
    "f = 16\n",
    "alpha_0 = beta_0 = 3\n"
   ]
  },
  {
   "cell_type": "code",
   "execution_count": 2,
   "id": "883ae46b",
   "metadata": {},
   "outputs": [
    {
     "data": {
      "text/html": [
       "0.366666666666667"
      ],
      "text/latex": [
       "0.366666666666667"
      ],
      "text/markdown": [
       "0.366666666666667"
      ],
      "text/plain": [
       "[1] 0.3666667"
      ]
     },
     "metadata": {},
     "output_type": "display_data"
    },
    {
     "data": {
      "text/html": [
       "0.0865507910219387"
      ],
      "text/latex": [
       "0.0865507910219387"
      ],
      "text/markdown": [
       "0.0865507910219387"
      ],
      "text/plain": [
       "[1] 0.08655079"
      ]
     },
     "metadata": {},
     "output_type": "display_data"
    }
   ],
   "source": [
    "NDraws = 10000\n",
    "res = matrix(,NDraws,3)\n",
    "colnames(res) = c(\"iter\",\"mean\",\"sd\")\n",
    "alpha_n=alpha_0+s\n",
    "beta_n = beta_0+f\n",
    "TrueMean = (alpha_n)/(alpha_n+beta_n)\n",
    "TrueVar = sqrt((alpha_n*beta_n)/((alpha_n+beta_n)^2*(alpha_n+beta_n+1)))\n",
    "TrueMean\n",
    "TrueVar"
   ]
  },
  {
   "cell_type": "code",
   "execution_count": 3,
   "id": "95f0d533",
   "metadata": {},
   "outputs": [],
   "source": [
    "PostB <- function(alpha= alpha_n,beta =beta_n ,n=NDraws){\n",
    "    set.seed(43)\n",
    "\n",
    "    for(i in 1:n){\n",
    "        postB = rbeta(i,alpha,beta)\n",
    "        res[i,] = c(i,mean(postB),sd(postB))\n",
    "\n",
    "    }\n",
    "    \n",
    "    return(list(post=postB,mean_sd=res))\n",
    "}\n",
    "Posterior = PostB()"
   ]
  },
  {
   "cell_type": "code",
   "execution_count": 4,
   "id": "f939c525",
   "metadata": {},
   "outputs": [
    {
     "data": {
      "text/html": [
       "<table class=\"dataframe\">\n",
       "<caption>A matrix: 6 × 3 of type dbl</caption>\n",
       "<thead>\n",
       "\t<tr><th scope=col>iter</th><th scope=col>mean</th><th scope=col>sd</th></tr>\n",
       "</thead>\n",
       "<tbody>\n",
       "\t<tr><td>1</td><td>0.3629400</td><td>0.00000000</td></tr>\n",
       "\t<tr><td>2</td><td>0.2669733</td><td>0.07396499</td></tr>\n",
       "\t<tr><td>3</td><td>0.3443858</td><td>0.06782267</td></tr>\n",
       "\t<tr><td>4</td><td>0.3124737</td><td>0.09665964</td></tr>\n",
       "\t<tr><td>5</td><td>0.4286403</td><td>0.13712276</td></tr>\n",
       "\t<tr><td>6</td><td>0.3704016</td><td>0.11454616</td></tr>\n",
       "</tbody>\n",
       "</table>\n"
      ],
      "text/latex": [
       "A matrix: 6 × 3 of type dbl\n",
       "\\begin{tabular}{lll}\n",
       " iter & mean & sd\\\\\n",
       "\\hline\n",
       "\t 1 & 0.3629400 & 0.00000000\\\\\n",
       "\t 2 & 0.2669733 & 0.07396499\\\\\n",
       "\t 3 & 0.3443858 & 0.06782267\\\\\n",
       "\t 4 & 0.3124737 & 0.09665964\\\\\n",
       "\t 5 & 0.4286403 & 0.13712276\\\\\n",
       "\t 6 & 0.3704016 & 0.11454616\\\\\n",
       "\\end{tabular}\n"
      ],
      "text/markdown": [
       "\n",
       "A matrix: 6 × 3 of type dbl\n",
       "\n",
       "| iter | mean | sd |\n",
       "|---|---|---|\n",
       "| 1 | 0.3629400 | 0.00000000 |\n",
       "| 2 | 0.2669733 | 0.07396499 |\n",
       "| 3 | 0.3443858 | 0.06782267 |\n",
       "| 4 | 0.3124737 | 0.09665964 |\n",
       "| 5 | 0.4286403 | 0.13712276 |\n",
       "| 6 | 0.3704016 | 0.11454616 |\n",
       "\n"
      ],
      "text/plain": [
       "     iter mean      sd        \n",
       "[1,] 1    0.3629400 0.00000000\n",
       "[2,] 2    0.2669733 0.07396499\n",
       "[3,] 3    0.3443858 0.06782267\n",
       "[4,] 4    0.3124737 0.09665964\n",
       "[5,] 5    0.4286403 0.13712276\n",
       "[6,] 6    0.3704016 0.11454616"
      ]
     },
     "metadata": {},
     "output_type": "display_data"
    }
   ],
   "source": [
    "Posterior$mean_sd[1,3]=0\n",
    "head(Posterior$mean_sd)"
   ]
  },
  {
   "cell_type": "code",
   "execution_count": 5,
   "id": "e5856f5a",
   "metadata": {},
   "outputs": [
    {
     "data": {
      "image/png": "[encoded data removed]",
      "text/plain": [
       "Plot with title \"Histogram of Posterior\""
      ]
     },
     "metadata": {
      "image/png": {
       "height": 420,
       "width": 420
      }
     },
     "output_type": "display_data"
    }
   ],
   "source": [
    "x <-seq( from =-5, to =10 , by =0.001)\n",
    "hist(Posterior$post,col='lightyellow',freq = FALSE,breaks=50,xlab='posterior',main='Histogram of Posterior')\n",
    "curve(dbeta(x,alpha_n,beta_n),add=TRUE,col='blue', lwd =2,lty=3)\n"
   ]
  },
  {
   "cell_type": "code",
   "execution_count": 6,
   "id": "c448f2f9",
   "metadata": {},
   "outputs": [
    {
     "data": {
      "image/png": "[encoded data removed]",
      "text/plain": [
       "plot without title"
      ]
     },
     "metadata": {
      "image/png": {
       "height": 420,
       "width": 420
      }
     },
     "output_type": "display_data"
    }
   ],
   "source": [
    "plot(x=1:NDraws,y=Posterior$mean_sd[,2],col='lightblue',lwd =1,type='l',xlab=\"Number of Draws\",ylab=expression(mu))\n",
    "abline(h=TrueMean,col='deeppink3',lwd=3)"
   ]
  },
  {
   "cell_type": "code",
   "execution_count": 7,
   "id": "fd46ad90",
   "metadata": {
    "scrolled": false
   },
   "outputs": [
    {
     "data": {
      "image/png": "[encoded data removed]",
      "text/plain": [
       "plot without title"
      ]
     },
     "metadata": {
      "image/png": {
       "height": 420,
       "width": 420
      }
     },
     "output_type": "display_data"
    }
   ],
   "source": [
    "plot(x=1:NDraws,y=Posterior$mean_sd[,3],col='lightblue',lwd =1,type='l',xlab=\"Number of Draws\",ylab=expression(sigma))\n",
    "abline(h=TrueVar,col='deeppink3',lwd=3)"
   ]
  },
  {
   "cell_type": "markdown",
   "id": "a5a72b30",
   "metadata": {},
   "source": [
    "As we can see from the two plots above, as the number of draws increases, both $\\mu$ and\n",
    "$\\sigma$ converge to the true values."
   ]
  },
  {
   "cell_type": "markdown",
   "id": "ff0901fc",
   "metadata": {},
   "source": [
    "### (b)\n",
    "\n",
    "we can see that our estimation of $Pr(\\theta > 0.4 | y)$ is very close to true theoratical value. \n"
   ]
  },
  {
   "cell_type": "code",
   "execution_count": 8,
   "id": "22f1645a",
   "metadata": {
    "scrolled": true
   },
   "outputs": [
    {
     "data": {
      "text/html": [
       "<table class=\"dataframe\">\n",
       "<caption>A data.frame: 1 × 2</caption>\n",
       "<thead>\n",
       "\t<tr><th scope=col>excact_prob</th><th scope=col>simulated_value</th></tr>\n",
       "\t<tr><th scope=col>&lt;dbl&gt;</th><th scope=col>&lt;dbl&gt;</th></tr>\n",
       "</thead>\n",
       "<tbody>\n",
       "\t<tr><td>0.3426654</td><td>0.3402</td></tr>\n",
       "</tbody>\n",
       "</table>\n"
      ],
      "text/latex": [
       "A data.frame: 1 × 2\n",
       "\\begin{tabular}{ll}\n",
       " excact\\_prob & simulated\\_value\\\\\n",
       " <dbl> & <dbl>\\\\\n",
       "\\hline\n",
       "\t 0.3426654 & 0.3402\\\\\n",
       "\\end{tabular}\n"
      ],
      "text/markdown": [
       "\n",
       "A data.frame: 1 × 2\n",
       "\n",
       "| excact_prob &lt;dbl&gt; | simulated_value &lt;dbl&gt; |\n",
       "|---|---|\n",
       "| 0.3426654 | 0.3402 |\n",
       "\n"
      ],
      "text/plain": [
       "  excact_prob simulated_value\n",
       "1 0.3426654   0.3402         "
      ]
     },
     "metadata": {},
     "output_type": "display_data"
    }
   ],
   "source": [
    "\n",
    "exact_prb =1- pbeta(0.4,alpha_n,beta_n)\n",
    "pos_prob = length(Posterior$post[Posterior$post > 0.4])/length(Posterior$post)\n",
    "prb = data.frame(exact_prb,pos_prob)\n",
    "colnames(prb) = c('excact_prob',\"simulated_value\")\n",
    "prb\n"
   ]
  },
  {
   "cell_type": "markdown",
   "id": "1ba66b35",
   "metadata": {},
   "source": [
    "### (C)\n",
    "Histogram and kernel density of of the data simulated from the posterior distribution of\n",
    "the $\\phi = log(\\theta \\ (1-\\theta))$ with 10000 draws."
   ]
  },
  {
   "cell_type": "code",
   "execution_count": 9,
   "id": "c5d24eb3",
   "metadata": {},
   "outputs": [
    {
     "data": {
      "image/png": "[encoded data removed]",
      "text/plain": [
       "Plot with title \"Histogram of phi\""
      ]
     },
     "metadata": {
      "image/png": {
       "height": 420,
       "width": 420
      }
     },
     "output_type": "display_data"
    }
   ],
   "source": [
    "phi = log(Posterior$post/(1- Posterior$post))\n",
    "hist(phi,breaks=100,probability = TRUE,col='cyan',xlab=expression(phi))\n",
    "lines(density(phi),col='deeppink3',lty=2,lwd=3)"
   ]
  },
  {
   "cell_type": "markdown",
   "id": "written-spank",
   "metadata": {},
   "source": [
    "# Assignment 2"
   ]
  },
  {
   "cell_type": "markdown",
   "id": "33d3c333",
   "metadata": {},
   "source": [
    "## Log-normal distribution and the Gini coefficient.\n",
    "\n",
    "\n",
    "Assume that you have asked 10 randomly selected persons about their monthly\n",
    " income (in thousands Swedish Krona) and obtained the following ten observations\n",
    ": 14, 25, 45, 25, 30, 33, 19, 50, 34 and 67.\n",
    " A common model for non-negative continuous variables is the log-normal\n",
    " distribution.\n",
    " The log-normal distribution \n",
    " $\\log\\mathcal{N}(\\mu,\\sigma^{2})$\n",
    "\n",
    "\n",
    " has density function\n",
    "\n",
    "$$ p(y|\\mu ,{\\sigma ^2}) = \\frac{1}{{y\\cdot\\sqrt {2\\pi {\\sigma ^2}} }}\\exp ( - \\frac{1}{{2{\\sigma ^2}}}{\\left( {\\log y - \\mu } \\right)^2}) $$ where \n",
    " $y>0$ , $\\mu>0$ and  $\\sigma^{2}>0$\n",
    "\n",
    "The log-normal distribution is related to the normal distribution as follows: $y\\sim\\log\\mathcal{N}(\\mu,\\sigma^{2})$ then\n",
    "\n",
    "$\\log y\\sim\\mathcal{N}(\\mu,\\sigma^{2})$\n",
    " Let \n",
    "$y_{1},...,y_{n}\\vert\\mu,\\sigma^{2}\\overset{iid}{\\sim}\\log\\mathcal{N}(\\mu,\\sigma^{2})$\n",
    ", where \n",
    " $\\mu=3.8$\n",
    "\n",
    "\n",
    " is assumed to be known but \n",
    "$\\sigma^{2}$ is unknown with non-informative prior  $p(\\sigma^{2})\\propto1/\\sigma^{2}$ The posterior for \n",
    "$\\sigma^{2}$  is the \n",
    "$Inv-\\chi^{2}(n,\\tau^{2})$\n",
    "\n",
    "\n",
    " distribution, where\n",
    "\n",
    "$$ \\tau^{2}=\\frac{\\sum_{i=1}^{n}(\\log y_{i}-\\mu)^{2}}{n}.$$\n",
    "\n",
    "\n",
    "\n"
   ]
  },
  {
   "cell_type": "markdown",
   "id": "blind-auckland",
   "metadata": {},
   "source": [
    "### (a)\n",
    "\n",
    "*Simulate 10, 000 draws from the posterior of σ2 (assuming μ = 3.8) and com-\n",
    "pare it with the theoretical Inv − χ2(n, τ 2) posterior distribution.*"
   ]
  },
  {
   "cell_type": "code",
   "execution_count": 10,
   "id": "israeli-vacuum",
   "metadata": {},
   "outputs": [],
   "source": [
    "num_draws = 10000 #sample size\n",
    "mu = 3.8\n",
    "observ = c(38,20, 49, 58, 31, 70, 18, 56, 25,78)\n",
    "n_obser = length(observ)\n"
   ]
  },
  {
   "cell_type": "code",
   "execution_count": 11,
   "id": "grand-onion",
   "metadata": {},
   "outputs": [],
   "source": [
    "tau2 = function(data,mu,n_obser){\n",
    "    sum((log(data) -mu)^2 )/n_obser\n",
    "}"
   ]
  },
  {
   "cell_type": "code",
   "execution_count": 12,
   "id": "57290d97",
   "metadata": {},
   "outputs": [
    {
     "data": {
      "text/html": [
       "0.261043665681099"
      ],
      "text/latex": [
       "0.261043665681099"
      ],
      "text/markdown": [
       "0.261043665681099"
      ],
      "text/plain": [
       "[1] 0.2610437"
      ]
     },
     "metadata": {},
     "output_type": "display_data"
    }
   ],
   "source": [
    "tau2(observ,mu,n_obser )"
   ]
  },
  {
   "cell_type": "code",
   "execution_count": 13,
   "id": "0742d1e9",
   "metadata": {},
   "outputs": [],
   "source": [
    "rinvchisq <- function(num_draws, n_obser, tau_sq){\n",
    "  set.seed(1234)\n",
    "  x <- rchisq(num_draws,df = n_obser-1)\n",
    "  x_inv <- ((n_obser-1)*tau_sq)/x\n",
    "  return(x_inv)\n",
    "}"
   ]
  },
  {
   "cell_type": "code",
   "execution_count": 14,
   "id": "variable-sessions",
   "metadata": {},
   "outputs": [],
   "source": [
    "post_sigma2 <- function(m){\n",
    "    set.seed(12345)\n",
    "    rinvchisq(num_draws = num_draws,n_obser = n_obser,tau_sq = tau2(observ,mu,n_obser=n_obser))\n",
    "}"
   ]
  },
  {
   "cell_type": "code",
   "execution_count": 15,
   "id": "37c6c472",
   "metadata": {},
   "outputs": [],
   "source": [
    "dinvchisq <- function(x,n_obser,tau_sq){\n",
    "  res <- (((tau_sq*(n_obser-1))/2)^(n_obser-1)/2 * exp(-(tau_sq*(n_obser-1))/(2*x)))/((x^(1+(n_obser-1)/2)) * gamma((n_obser-1)/2))\n",
    "  return(res)\n",
    "}"
   ]
  },
  {
   "cell_type": "code",
   "execution_count": 16,
   "id": "entitled-forest",
   "metadata": {},
   "outputs": [
    {
     "data": {
      "image/png": "[encoded data removed]",
      "text/plain": [
       "Plot with title \"paste(\"Simulated and theoratical posterior of \", sigma^2)\""
      ]
     },
     "metadata": {
      "image/png": {
       "height": 420,
       "width": 420
      }
     },
     "output_type": "display_data"
    }
   ],
   "source": [
    "x <-seq( from =0, to =10 , by =0.001)\n",
    "hist(post_sigma2(m = num_draws ),probability = TRUE,col='pink',breaks = 100,\n",
    "     main=expression(paste('Simulated and theoratical posterior of ', sigma^2) ),\n",
    "    ,xlab = expression(paste(sigma ^2)))\n",
    "    curve(dinvchisq(x ,n_obser= n_obser,tau_sq = tau2(observ,mu,n_obser )),add=TRUE,col='blue',lwd=2)"
   ]
  },
  {
   "cell_type": "markdown",
   "id": "0c355ecc",
   "metadata": {},
   "source": [
    "### (b)\n",
    "*The most common measure of income inequality is the Gini coeffcient, G,\n",
    "where 0 < G < 1. $G=0$ means a completely equal income distribution,\n",
    "whereas $G=1$ means complete income inequality (see Wikipedia for more\n",
    "information about the Gini coeffcient). It can be shown that  $G=2\\Phi\\left(\\sigma/\\sqrt{2}\\right)-1$\n",
    " when incomes follow a  $\\log\\mathcal{N}(\\mu,\\sigma^{2})$ distribution.$\\Phi(z)$ is the cumulative\n",
    "distribution function (CDF) for the standard normal distribution with mean\n",
    "zero and unit variance. Use the posterior draws in a) to compute the posterior\n",
    "distribution of the Gini coeffcient G for the current data set*"
   ]
  },
  {
   "cell_type": "code",
   "execution_count": 17,
   "id": "upset-texture",
   "metadata": {},
   "outputs": [
    {
     "data": {
      "image/png": "[encoded data removed]",
      "text/plain": [
       "Plot with title \"the posterior\n",
       "distribution of the Gini coefficient\""
      ]
     },
     "metadata": {
      "image/png": {
       "height": 420,
       "width": 420
      }
     },
     "output_type": "display_data"
    }
   ],
   "source": [
    "sigma2 = post_sigma2(m)\n",
    "g_sigma = sqrt(sigma2)/sqrt(2) \n",
    "gpdf =2* pnorm(q = g_sigma,mean = 0,sd = 1)-1\n",
    "hist(gpdf,probability = TRUE,col='yellow',breaks=50,main='the posterior\n",
    "distribution of the Gini coefficient',xlab=expression(paste('Gini ', sigma)))\n",
    "lines(density(gpdf),col='darkblue',lty=3,lwd=2)"
   ]
  },
  {
   "cell_type": "markdown",
   "id": "indoor-cleaners",
   "metadata": {},
   "source": [
    "### (c) \n",
    "*Use the posterior draws from b) to compute a 90% equal tail credible interval\n",
    "for G. A 90% equal tail interval (a; b) cuts off 5% percent of the posterior\n",
    "probability mass to the left of a, and 5% to the right of b. Also, do a kernel\n",
    "density estimate of the posterior of G using the density function in R with\n",
    "default settings, and use that kernel density estimate to compute a 90% Highest\n",
    "Posterior Density Interval (HPDI) for G. Compare the two intervals.*\n"
   ]
  },
  {
   "cell_type": "code",
   "execution_count": 18,
   "id": "387b8369",
   "metadata": {},
   "outputs": [
    {
     "data": {
      "text/html": [
       "<style>\n",
       ".dl-inline {width: auto; margin:0; padding: 0}\n",
       ".dl-inline>dt, .dl-inline>dd {float: none; width: auto; display: inline-block}\n",
       ".dl-inline>dt::after {content: \":\\0020\"; padding-right: .5ex}\n",
       ".dl-inline>dt:not(:first-of-type) {padding-left: .5ex}\n",
       "</style><dl class=dl-inline><dt>5%</dt><dd>0.208822072375841</dd><dt>95%</dt><dd>0.445627779268848</dd></dl>\n"
      ],
      "text/latex": [
       "\\begin{description*}\n",
       "\\item[5\\textbackslash{}\\%] 0.208822072375841\n",
       "\\item[95\\textbackslash{}\\%] 0.445627779268848\n",
       "\\end{description*}\n"
      ],
      "text/markdown": [
       "5%\n",
       ":   0.20882207237584195%\n",
       ":   0.445627779268848\n",
       "\n"
      ],
      "text/plain": [
       "       5%       95% \n",
       "0.2088221 0.4456278 "
      ]
     },
     "metadata": {},
     "output_type": "display_data"
    }
   ],
   "source": [
    "alpha_conf = 0.1\n",
    "q_lower = quantile(gpdf,alpha_conf/2)\n",
    "q_upper = quantile(gpdf,1-alpha_conf/2)\n",
    "c(q_lower, q_upper)\n",
    "true_mean = mean(gpdf)\n"
   ]
  },
  {
   "cell_type": "code",
   "execution_count": 19,
   "id": "8a393374",
   "metadata": {},
   "outputs": [
    {
     "data": {
      "text/html": [
       "0.305486649437337"
      ],
      "text/latex": [
       "0.305486649437337"
      ],
      "text/markdown": [
       "0.305486649437337"
      ],
      "text/plain": [
       "[1] 0.3054866"
      ]
     },
     "metadata": {},
     "output_type": "display_data"
    }
   ],
   "source": [
    "true_mean"
   ]
  },
  {
   "cell_type": "markdown",
   "id": "096d9160",
   "metadata": {},
   "source": [
    "HPD: shortest possible interval that under the posterior has the siginificance probability (ie. 0.9)"
   ]
  },
  {
   "cell_type": "code",
   "execution_count": 20,
   "id": "6471e6fe",
   "metadata": {},
   "outputs": [],
   "source": [
    "KerDenG=density(gpdf)\n",
    "xx = KerDenG$x\n",
    "yy = sort(KerDenG$y,decreasing = TRUE,index.return=TRUE)\n"
   ]
  },
  {
   "cell_type": "markdown",
   "id": "747cf2de",
   "metadata": {},
   "source": [
    "we will use the cumulative sum of kernel density values to find the shortest interval in data that contains 0.9 of the data. \n",
    "the reason we can use cumulative to find HPD interval is because our data is unimodal."
   ]
  },
  {
   "cell_type": "code",
   "execution_count": 21,
   "id": "a27d984b",
   "metadata": {},
   "outputs": [],
   "source": [
    "CumSum = cumsum(yy$x)\n",
    "HPD_D = CumSum[length(CumSum)]*0.9\n",
    "temp = which(CumSum<HPD_D)\n",
    "HPD_interval = range(xx[which(CumSum<HPD_D)])"
   ]
  },
  {
   "cell_type": "code",
   "execution_count": 22,
   "id": "714fef32",
   "metadata": {},
   "outputs": [],
   "source": [
    "df = data.frame('HPD_interval'=HPD_interval,'credible_interval'=c(q_lower, q_upper))\n"
   ]
  },
  {
   "cell_type": "code",
   "execution_count": 24,
   "id": "4c5ca94b",
   "metadata": {},
   "outputs": [
    {
     "data": {
      "image/png": "[encoded data removed]",
      "text/plain": [
       "Plot with title \"distribution of the Gini coefficient\""
      ]
     },
     "metadata": {
      "image/png": {
       "height": 420,
       "width": 420
      }
     },
     "output_type": "display_data"
    }
   ],
   "source": [
    "y_temp=density(gpdf,n=10000)\n",
    "plot(x=y_temp$x,y=y_temp$y,type = 'l', lwd = 2, col = 'violet',main= 'distribution of the Gini coefficient'\n",
    "     ,xlab=expression(paste('Gini ', sigma)),ylab='Density')\n",
    "polygon(x=y_temp$x,y=y_temp$y, col = 'lightgrey',border = 'darkblue')\n",
    "abline(v = true_mean, col=\"deeppink\", lwd=3, lty=2)\n",
    "\n",
    "segments(x0 =q_lower,y0 =0.5,x1 =q_upper,y1 =  0.5,col='deepskyblue1' ,lwd=3)\n",
    "abline(v=q_lower,col='deepskyblue1' ,lwd=3)\n",
    "abline(v=q_upper,col='deepskyblue1' ,lwd=3)\n",
    "segments(x0=HPD_interval[1],y0=0.8,x1=HPD_interval[2],y=0.8,col='darkolivegreen',lwd=3)\n",
    "abline(v=HPD_interval[1],col='darkolivegreen',lwd=3)\n",
    "abline(v=HPD_interval[2],col='darkolivegreen',lwd=3)\n",
    "arrows(x0 =q_lower,y0 =0.5,x1 =q_upper,y1 =  0.5,col='deepskyblue1' ,lwd=3,code = 3)\n",
    "arrows(x0=HPD_interval[1],y0=0.8,x1=HPD_interval[2],y=0.8,col='darkolivegreen',lwd=3,code=3)\n",
    "legend(\"topright\", \n",
    "  legend = c(\" Credible_interval\", \"HPD\",expression(mu)), \n",
    "  col = c('deepskyblue1','darkolivegreen','deeppink'), lty=c(1,1,2), cex=0.8,lwd=3,bg='lightyellow')\n",
    "                "
   ]
  },
  {
   "cell_type": "markdown",
   "id": "automatic-conjunction",
   "metadata": {},
   "source": [
    "# Assignment 3\n",
    "\n",
    "## Bayesian inference for the concentration parameter in the von Mises distribution"
   ]
  },
  {
   "cell_type": "markdown",
   "id": "moving-cyprus",
   "metadata": {},
   "source": [
    "distributions for circular data we convert the data into radians  . The\n",
    "10 observations in radians are\n",
    "\n",
    "$$(−2.44, 2.14, 2.54, 1.83, 2.02, 2.33, −2.79, 2.23, 2.07, 2.02).$$\n",
    "\n",
    "Assume that these data points are independent observations following the von Mises\n",
    "distribution\n",
    "\n",
    "$$p(y\\vert\\mu,\\kappa)=\\frac{\\exp\\left[\\kappa\\cdot\\cos(y-\\mu)\\right]}{2\\pi I_{0}(\\kappa)},\\;-\\pi\\leq y\\leq\\pi,$$\n",
    "\n",
    "where $I_{0}(\\kappa)$ is the modified Bessel function of the first kind of order zero.The parameter $-\\pi\\leq\\mu\\leq\\pi$ is the mean direction and κ > 0 is\n",
    "called the concentration parameter. Large  $\\kappa$ gives a small variance around $\\mu$, and\n",
    "vice versa. Assume that $\\mu$ is known to be 2.39. Let $\\kappa\\sim\\mathrm{Exponential}(\\lambda=1)$ a\n",
    "priori, where  $\\lambda$ is the rate parameter of the exponential distribution (so that the\n",
    "    mean is $1/\\lambda$).\n",
    "\n",
    "(a) Plot the posterior distribution of $\\kappa$ for the wind direction data over a fine grid\n",
    "of $\\kappa$ values.\n",
    "\n",
    "(b) Find the (approximate) posterior mode of $\\kappa$ from the information in a).\n"
   ]
  },
  {
   "cell_type": "markdown",
   "id": "fefdeb91",
   "metadata": {},
   "source": [
    "_____________________________________________________________________"
   ]
  },
  {
   "cell_type": "markdown",
   "id": "enabling-duncan",
   "metadata": {},
   "source": [
    "### (a) Posterior :\n",
    "$$p(\\kappa \\mid y_1,y_2,...,y_n) \\propto p(y_1,y_2,..., y_n \\mid \\kappa) \\cdot p(\\kappa)$$\n",
    "\n",
    "$$p(\\kappa \\mid y_1,y_2,...,y_n) \\propto \\left[\\frac{1}{I_0(\\kappa)}\\right]^n \\cdot \\exp\\left[\\sum_{i=1}^{n} \\kappa \\cdot cos(y_i - \\mu)-\\lambda \\kappa\\right]$$\n",
    "\n",
    "$$p(\\kappa \\mid y_1,y_2,...,y_n) \\propto \\left[\\frac{1}{I_0(\\kappa)}\\right]^n \\cdot \\exp\\left[\\sum_{i=1}^{n} \\kappa \\cdot cos(y_i - 2.39)-\\kappa\\right]$$\n",
    "\n"
   ]
  },
  {
   "cell_type": "code",
   "execution_count": 25,
   "id": "conventional-tumor",
   "metadata": {},
   "outputs": [],
   "source": [
    "y_data =c(-2.44, 2.14, 2.54, 1.83, 2.02, 2.33, -2.79, 2.23, 2.07, 2.02)"
   ]
  },
  {
   "cell_type": "code",
   "execution_count": 26,
   "id": "differential-owner",
   "metadata": {},
   "outputs": [
    {
     "data": {
      "text/html": [
       "10"
      ],
      "text/latex": [
       "10"
      ],
      "text/markdown": [
       "10"
      ],
      "text/plain": [
       "[1] 10"
      ]
     },
     "metadata": {},
     "output_type": "display_data"
    }
   ],
   "source": [
    "n =length(y_data)\n",
    "mu = 2.39\n",
    "n"
   ]
  },
  {
   "cell_type": "code",
   "execution_count": 27,
   "id": "yellow-guatemala",
   "metadata": {},
   "outputs": [],
   "source": [
    "# a function to compute prior for k (exponential with lambda = 1)\n",
    "prior_k <- function(k){\n",
    "    dexp(x = k,rate = 1)\n",
    "}"
   ]
  },
  {
   "cell_type": "code",
   "execution_count": 28,
   "id": "solid-brand",
   "metadata": {},
   "outputs": [],
   "source": [
    "likelikood_k <- function(y,mu ,n,k){\n",
    "    \n",
    "    exp(k*sum(cos(y-mu)))/((2*pi*besselI(k,nu = 0))^n)\n",
    "}"
   ]
  },
  {
   "cell_type": "code",
   "execution_count": 29,
   "id": "configured-scoop",
   "metadata": {},
   "outputs": [],
   "source": [
    "k= seq(from = 0,to = 20,by = 0.01)"
   ]
  },
  {
   "cell_type": "code",
   "execution_count": 30,
   "id": "electronic-bahamas",
   "metadata": {},
   "outputs": [],
   "source": [
    "#\n",
    "posterior_k <- function(y=y_data,mu=mu ,n=n,k=k){\n",
    "    likelikood_k(y,mu ,n,k )*prior_k(k)\n",
    "}\n"
   ]
  },
  {
   "cell_type": "code",
   "execution_count": 31,
   "id": "derived-animation",
   "metadata": {},
   "outputs": [],
   "source": [
    "post=posterior_k(y=y_data,mu=mu ,n=n,k=k)"
   ]
  },
  {
   "cell_type": "code",
   "execution_count": 32,
   "id": "demanding-definition",
   "metadata": {},
   "outputs": [
    {
     "data": {
      "image/png": "[encoded data removed]",
      "text/plain": [
       "plot without title"
      ]
     },
     "metadata": {
      "image/png": {
       "height": 420,
       "width": 420
      }
     },
     "output_type": "display_data"
    }
   ],
   "source": [
    "plot(y=post,x=k,col='blue',type='l',lwd=3)\n"
   ]
  },
  {
   "cell_type": "markdown",
   "id": "6138ee8c",
   "metadata": {},
   "source": [
    "### (b) Mode"
   ]
  },
  {
   "cell_type": "code",
   "execution_count": 33,
   "id": "under-alexander",
   "metadata": {},
   "outputs": [
    {
     "data": {
      "text/html": [
       "2.12"
      ],
      "text/latex": [
       "2.12"
      ],
      "text/markdown": [
       "2.12"
      ],
      "text/plain": [
       "[1] 2.12"
      ]
     },
     "metadata": {},
     "output_type": "display_data"
    }
   ],
   "source": [
    "k[which.max(post)]"
   ]
  },
  {
   "cell_type": "code",
   "execution_count": 34,
   "id": "double-conflict",
   "metadata": {},
   "outputs": [
    {
     "data": {
      "image/png": "[encoded data removed]",
      "text/plain": [
       "Plot with title \"Histogram of y_data\""
      ]
     },
     "metadata": {
      "image/png": {
       "height": 420,
       "width": 420
      }
     },
     "output_type": "display_data"
    }
   ],
   "source": [
    "hist(y_data,probability = TRUE,breaks = 50,col='brown')"
   ]
  },
  {
   "cell_type": "markdown",
   "id": "e5c31402",
   "metadata": {},
   "source": [
    "from the plot above we can see that $\\kappa = 2.12$ is the actual mode of our data."
   ]
  },
  {
   "cell_type": "code",
   "execution_count": 35,
   "id": "unnecessary-story",
   "metadata": {},
   "outputs": [
    {
     "data": {
      "text/html": [
       "<style>\n",
       ".list-inline {list-style: none; margin:0; padding: 0}\n",
       ".list-inline>li {display: inline-block}\n",
       ".list-inline>li:not(:last-child)::after {content: \"\\00b7\"; padding: 0 .5ex}\n",
       "</style>\n",
       "<ol class=list-inline><li>-2.44</li><li>-2.79</li></ol>\n"
      ],
      "text/latex": [
       "\\begin{enumerate*}\n",
       "\\item -2.44\n",
       "\\item -2.79\n",
       "\\end{enumerate*}\n"
      ],
      "text/markdown": [
       "1. -2.44\n",
       "2. -2.79\n",
       "\n",
       "\n"
      ],
      "text/plain": [
       "[1] -2.44 -2.79"
      ]
     },
     "metadata": {},
     "output_type": "display_data"
    }
   ],
   "source": [
    "y_data[which(y_data<0)]"
   ]
  }
 ],
 "metadata": {
  "kernelspec": {
   "display_name": "R",
   "language": "R",
   "name": "ir"
  },
  "language_info": {
   "codemirror_mode": "r",
   "file_extension": ".r",
   "mimetype": "text/x-r-source",
   "name": "R",
   "pygments_lexer": "r",
   "version": "3.6.1"
  },
  "latex_envs": {
   "LaTeX_envs_menu_present": true,
   "autoclose": false,
   "autocomplete": true,
   "bibliofile": "biblio.bib",
   "cite_by": "apalike",
   "current_citInitial": 1,
   "eqLabelWithNumbers": true,
   "eqNumInitial": 1,
   "hotkeys": {
    "equation": "Ctrl-E",
    "itemize": "Ctrl-I"
   },
   "labels_anchors": false,
   "latex_user_defs": false,
   "report_style_numbering": false,
   "user_envs_cfg": false
  },
  "toc": {
   "base_numbering": "1",
   "nav_menu": {},
   "number_sections": false,
   "sideBar": true,
   "skip_h1_title": false,
   "title_cell": "Table of Contents",
   "title_sidebar": "Contents",
   "toc_cell": false,
   "toc_position": {
    "height": "542px",
    "left": "159px",
    "top": "162.8px",
    "width": "307.2px"
   },
   "toc_section_display": true,
   "toc_window_display": true
  }
 },
 "nbformat": 4,
 "nbformat_minor": 5
}
