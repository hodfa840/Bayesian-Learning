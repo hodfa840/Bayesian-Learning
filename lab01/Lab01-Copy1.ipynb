{
 "cells": [
  {
   "cell_type": "markdown",
   "id": "automatic-conjunction",
   "metadata": {},
   "source": [
    "# Assignment 3"
   ]
  },
  {
   "cell_type": "markdown",
   "id": "moving-cyprus",
   "metadata": {},
   "source": [
    " Bayesian inference for the concentration parameter in the von Mises distribution.\n",
    "This exercise is concerned with directional data. The point is to show you that\n",
    "the posterior distribution for somewhat weird models can be obtained by plotting\n",
    "it over a grid of values. The data points are observed wind directions at a given\n",
    "location on ten di\u001berent days. The data are recorded in degrees:\n",
    "(40, 303, 326, 285, 296, 314, 20, 308, 299, 296),\n",
    "where North is located at zero degrees (see Figure 1 on the next page, where the\n",
    "angles are measured clockwise). To fit with Wikipedias description of probability\n",
    "distributions for circular data we convert the data into radians −π ≤ y ≤ π . The\n",
    "10 observations in radians are\n",
    "(−2.44, 2.14, 2.54, 1.83, 2.02, 2.33, −2.79, 2.23, 2.07, 2.02).\n"
   ]
  },
  {
   "cell_type": "markdown",
   "id": "after-institute",
   "metadata": {},
   "source": [
    "distributions for circular data we convert the data into radians  . The\n",
    "10 observations in radians are\n",
    "\n",
    "(−2.44, 2.14, 2.54, 1.83, 2.02, 2.33, −2.79, 2.23, 2.07, 2.02).\n",
    "\n",
    "Assume that these data points are independent observations following the von Mises\n",
    "distribution\n",
    "\n",
    "exp [κ · cos(y − μ)]\n",
    "p(y|μ, κ) =\n",
    " , −π ≤ y ≤ π,\n",
    "2πI0 (κ)\n",
    "\n",
    "where I0(κ) is the modi\u001c",
    "ed Bessel function of the \u001c",
    "rst kind of order zero [see\n",
    "?besselI in R]. The parameter μ (−π ≤ μ ≤ π ) is the mean direction and κ > 0 is\n",
    "called the concentration parameter. Large κ gives a small variance around μ, and\n",
    "vice versa. Assume that μ is known to be 2.39. Let κ ∼ Exponential(λ = 1) a\n",
    "priori, where λ is the rate parameter of the exponential distribution (so that the\n",
    "mean is 1/λ).\n",
    "\n",
    "(a) Plot the posterior distribution of κ for the wind direction data over a \u001c",
    "ne grid\n",
    "of κ values.\n",
    "\n",
    "(b) Find the (approximate) posterior mode of κ from the information in a).\n"
   ]
  },
  {
   "cell_type": "markdown",
   "id": "enabling-duncan",
   "metadata": {},
   "source": [
    "#(a)\n",
    "$$p(\\kappa \\mid y_1,y_2,...,y_n) \\propto p(y_1,y_2,..., y_n \\mid \\kappa) \\cdot p(\\kappa)$$\n",
    "\n",
    "$$p(\\kappa \\mid y_1,y_2,...,y_n) \\propto \\left[\\frac{1}{I_0(\\kappa)}\\right]^n \\cdot \\exp\\left[\\sum_{i=1}^{n} \\kappa \\cdot cos(y_i - \\mu)-\\lambda \\kappa\\right]$$\n",
    "\n",
    "$$p(\\kappa \\mid y_1,y_2,...,y_n) \\propto \\left[\\frac{1}{I_0(\\kappa)}\\right]^n \\cdot \\exp\\left[\\sum_{i=1}^{n} \\kappa \\cdot cos(y_i - 2.39)-\\kappa\\right]$$\n",
    "\n"
   ]
  },
  {
   "cell_type": "code",
   "execution_count": 1,
   "id": "conventional-tumor",
   "metadata": {},
   "outputs": [],
   "source": [
    "y_data =c(-2.44, 2.14, 2.54, 1.83, 2.02, 2.33, -2.79, 2.23, 2.07, 2.02)"
   ]
  },
  {
   "cell_type": "code",
   "execution_count": 2,
   "id": "differential-owner",
   "metadata": {},
   "outputs": [
    {
     "data": {
      "text/html": [
       "10"
      ],
      "text/latex": [
       "10"
      ],
      "text/markdown": [
       "10"
      ],
      "text/plain": [
       "[1] 10"
      ]
     },
     "metadata": {},
     "output_type": "display_data"
    }
   ],
   "source": [
    "n =length(y_data)\n",
    "mu = 2.39\n",
    "n"
   ]
  },
  {
   "cell_type": "code",
   "execution_count": 3,
   "id": "yellow-guatemala",
   "metadata": {},
   "outputs": [],
   "source": [
    "# a function to compute prior for k (exponential with lambda = 1)\n",
    "prior_k <- function(k){\n",
    "    dexp(x = k,rate = 1)\n",
    "}"
   ]
  },
  {
   "cell_type": "code",
   "execution_count": 4,
   "id": "solid-brand",
   "metadata": {},
   "outputs": [],
   "source": [
    "likelikood_k <- function(y,mu ,n,k){\n",
    "    \n",
    "    exp(k*sum(cos(y-mu)))/(2*pi*besselI(k,nu = 0)^n)\n",
    "}"
   ]
  },
  {
   "cell_type": "code",
   "execution_count": 5,
   "id": "configured-scoop",
   "metadata": {},
   "outputs": [],
   "source": [
    "k= seq(from = 0,to = 30,by = 0.01)"
   ]
  },
  {
   "cell_type": "code",
   "execution_count": 6,
   "id": "electronic-bahamas",
   "metadata": {},
   "outputs": [],
   "source": [
    "#\n",
    "posterior_k <- function(y=y_data,mu=mu ,n=n,k=k){\n",
    "    likelikood_k(y,mu ,n,k )*prior_k(k)\n",
    "}\n"
   ]
  },
  {
   "cell_type": "code",
   "execution_count": 7,
   "id": "derived-animation",
   "metadata": {},
   "outputs": [],
   "source": [
    "post=posterior_k(y=y_data,mu=mu ,n=n,k=k)"
   ]
  },
  {
   "cell_type": "code",
   "execution_count": 13,
   "id": "demanding-definition",
   "metadata": {},
   "outputs": [
    {
     "data": {
      "image/png": "[encoded data removed]",
      "text/plain": [
       "plot without title"
      ]
     },
     "metadata": {},
     "output_type": "display_data"
    }
   ],
   "source": [
    "plot(y=post,x=k)"
   ]
  },
  {
   "cell_type": "code",
   "execution_count": 16,
   "id": "under-alexander",
   "metadata": {},
   "outputs": [
    {
     "data": {
      "text/html": [
       "2.12"
      ],
      "text/latex": [
       "2.12"
      ],
      "text/markdown": [
       "2.12"
      ],
      "text/plain": [
       "[1] 2.12"
      ]
     },
     "metadata": {},
     "output_type": "display_data"
    }
   ],
   "source": [
    "k[which.max(post)]"
   ]
  },
  {
   "cell_type": "code",
   "execution_count": null,
   "id": "secondary-backing",
   "metadata": {},
   "outputs": [],
   "source": []
  }
 ],
 "metadata": {
  "kernelspec": {
   "display_name": "R",
   "language": "R",
   "name": "ir"
  },
  "language_info": {
   "codemirror_mode": "r",
   "file_extension": ".r",
   "mimetype": "text/x-r-source",
   "name": "R",
   "pygments_lexer": "r",
   "version": "3.6.1"
  }
 },
 "nbformat": 4,
 "nbformat_minor": 5
}
