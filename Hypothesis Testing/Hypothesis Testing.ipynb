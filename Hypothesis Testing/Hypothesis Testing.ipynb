{
 "cells": [
  {
   "cell_type": "markdown",
   "metadata": {},
   "source": [
    "# Hypothesis Testing notes"
   ]
  },
  {
   "cell_type": "markdown",
   "metadata": {},
   "source": [
    "- standard deviation: \n",
    "   measure of variability, gives us an idea how well the sample mean represent the data.\n",
    "   \n",
    "- standard error: a measure of variability on a larger scale. How variable the sampling distribution is.\n",
    "\n",
    "SE = SD of sample means\n"
   ]
  },
  {
   "cell_type": "markdown",
   "metadata": {},
   "source": [
    "In general, \n",
    "If you have a sample with more than 30 observations, you can accept that its coming from a sampling distribution with a mean close to the population mean.\n",
    "\n",
    "$SE = \\frac {\\sigma }  {\\sqrt{n}}$\n",
    "\n",
    "- SE gives us the level of certainty with which we can generalize from a sample to a population."
   ]
  },
  {
   "cell_type": "markdown",
   "metadata": {},
   "source": [
    "## confidence interval"
   ]
  },
  {
   "cell_type": "markdown",
   "metadata": {},
   "source": [
    "A range of values where the population mean is likely to fall.\n",
    "\n",
    "( lower boundary, upper boundary )\n",
    "\n",
    " 1. define what you want the interval to tell you. a range in which the true value we want to estimate lies in certain number of cases. usually  *95%* or *99 %*\n",
    " \n",
    " 2. plug in your data into a formula.\n",
    " "
   ]
  },
  {
   "cell_type": "markdown",
   "metadata": {},
   "source": [
    "#### CI:\n",
    "\n",
    "* __a large Interval is uninformative because the true population mean can be anywhere in the range.__\n",
    "\n",
    "* __if small, we can be fairly confident that for $95$ %  of the cases, the sample mean is a decent estimate of the population mean.__ "
   ]
  },
  {
   "cell_type": "markdown",
   "metadata": {},
   "source": [
    "## hypothesis\n",
    "\n",
    "A hypothesis is “an idea that can be tested”\n",
    "\n",
    "### The alternative hypothesis\n",
    "\n",
    "The alternative hypothesis is the change or innovation that is\n",
    "contesting the status-quo.\n",
    "Usually the alternative is our own opinion. The idea is the\n",
    "following:\n",
    "If the null is the status-quo (i.e., what is generally believed),\n",
    "then the act of performing a test, shows we have doubts\n",
    "about the truthfulness of the null. More often than not the\n",
    "researcher’s opinion is contained in the alternative hypothesis.\n",
    "\n",
    "<u> what theory predict to be true.</u>\n",
    "\n",
    "\n",
    "### The Null hypothesis\n",
    "\n",
    "<u> what theory predicts will be FALSE.</u>\n",
    "\n",
    "### Testing: \n",
    "\n",
    "When testing, there are two decisions that can be made: to accept the null hypothesis or to reject the null hypothesis.\n",
    "\n",
    "in case we rejected the null hypothesis we can only support the alternative. we can not actually prove it."
   ]
  },
  {
   "cell_type": "markdown",
   "metadata": {},
   "source": [
    "## Statistical errors (Type I Error and Type II Error)\n"
   ]
  },
  {
   "cell_type": "markdown",
   "metadata": {},
   "source": [
    "In general, there are two types of errors we can make while testing: Type I error rejecting Null hypothesis(False positive) responsibility for Type I falls on you $\\alpha$ and\n",
    "Type II Error accepting a false Null (False negative). $\\beta$ depends on the sample size and the population variance.\n",
    " The significance level is the probability of rejecting a null hypothesis that is\n",
    "true.\n",
    "\n",
    "Type II is considered the smaller problem.\n",
    "\n",
    "$1-\\beta$ is called the power of the test. Power of the test is increased by increasing the sample size."
   ]
  },
  {
   "cell_type": "code",
   "execution_count": 1,
   "metadata": {},
   "outputs": [
    {
     "data": {
      "text/html": [
       "<table>\n",
       "<thead><tr><th scope=col>emp_no</th><th scope=col>first_name</th><th scope=col>last_name</th><th scope=col>birth_date</th><th scope=col>gender</th><th scope=col>title</th><th scope=col>salary</th><th scope=col>latest_start_date</th><th scope=col>end_of_contract_date</th></tr></thead>\n",
       "<tbody>\n",
       "\t<tr><td>10001          </td><td>Georgi         </td><td>Facello        </td><td>02/09/1953     </td><td>M              </td><td>Senior Engineer</td><td>60117          </td><td>22/06/2010     </td><td>01/01/9999     </td></tr>\n",
       "\t<tr><td>10002          </td><td>Bezalel        </td><td>Simmel         </td><td>02/06/1964     </td><td>F              </td><td>Staff          </td><td>65828          </td><td>02/08/2001     </td><td>01/01/9999     </td></tr>\n",
       "\t<tr><td>10003          </td><td>Parto          </td><td>Bamford        </td><td>03/12/1959     </td><td>M              </td><td>Senior Engineer</td><td>40006          </td><td>01/12/2001     </td><td>01/01/9999     </td></tr>\n",
       "</tbody>\n",
       "</table>\n"
      ],
      "text/latex": [
       "\\begin{tabular}{r|lllllllll}\n",
       " emp\\_no & first\\_name & last\\_name & birth\\_date & gender & title & salary & latest\\_start\\_date & end\\_of\\_contract\\_date\\\\\n",
       "\\hline\n",
       "\t 10001           & Georgi          & Facello         & 02/09/1953      & M               & Senior Engineer & 60117           & 22/06/2010      & 01/01/9999     \\\\\n",
       "\t 10002           & Bezalel         & Simmel          & 02/06/1964      & F               & Staff           & 65828           & 02/08/2001      & 01/01/9999     \\\\\n",
       "\t 10003           & Parto           & Bamford         & 03/12/1959      & M               & Senior Engineer & 40006           & 01/12/2001      & 01/01/9999     \\\\\n",
       "\\end{tabular}\n"
      ],
      "text/markdown": [
       "\n",
       "| emp_no | first_name | last_name | birth_date | gender | title | salary | latest_start_date | end_of_contract_date |\n",
       "|---|---|---|---|---|---|---|---|---|\n",
       "| 10001           | Georgi          | Facello         | 02/09/1953      | M               | Senior Engineer | 60117           | 22/06/2010      | 01/01/9999      |\n",
       "| 10002           | Bezalel         | Simmel          | 02/06/1964      | F               | Staff           | 65828           | 02/08/2001      | 01/01/9999      |\n",
       "| 10003           | Parto           | Bamford         | 03/12/1959      | M               | Senior Engineer | 40006           | 01/12/2001      | 01/01/9999      |\n",
       "\n"
      ],
      "text/plain": [
       "  emp_no first_name last_name birth_date gender title           salary\n",
       "1 10001  Georgi     Facello   02/09/1953 M      Senior Engineer 60117 \n",
       "2 10002  Bezalel    Simmel    02/06/1964 F      Staff           65828 \n",
       "3 10003  Parto      Bamford   03/12/1959 M      Senior Engineer 40006 \n",
       "  latest_start_date end_of_contract_date\n",
       "1 22/06/2010        01/01/9999          \n",
       "2 02/08/2001        01/01/9999          \n",
       "3 01/12/2001        01/01/9999          "
      ]
     },
     "metadata": {},
     "output_type": "display_data"
    },
    {
     "data": {
      "text/plain": [
       "     emp_no          first_name     last_name        birth_date  gender \n",
       " Min.   :10001   Sumali   :  5   Danley  :  4   13/11/1963:  4   F:390  \n",
       " 1st Qu.:10251   Florina  :  4   Dredge  :  4   04/11/1960:  3   M:610  \n",
       " Median :10500   Hironoby :  4   Kaiser  :  4   05/11/1961:  3          \n",
       " Mean   :10500   Inderjeet:  4   Kalloufi:  4   10/11/1963:  3          \n",
       " 3rd Qu.:10750   Munehiro :  4   Narahara:  4   11/09/1964:  3          \n",
       " Max.   :11000   Remko    :  4   Skafidas:  4   13/03/1963:  3          \n",
       "                 (Other)  :975   (Other) :976   (Other)   :981          \n",
       "                title         salary        latest_start_date\n",
       " Assistant Engineer: 50   Min.   : 40000   02/06/2002:  7    \n",
       " Engineer          :341   1st Qu.: 40000   04/10/2001:  7    \n",
       " Senior Engineer   :103   Median : 48585   07/01/2002:  7    \n",
       " Senior Staff      :295   Mean   : 53271   30/01/2002:  7    \n",
       " Staff             :148   3rd Qu.: 62115   03/04/2002:  6    \n",
       " Technique Leader  : 63   Max.   :106905   08/11/2001:  6    \n",
       "                                           (Other)   :960    \n",
       " end_of_contract_date\n",
       " 01/01/9999:802      \n",
       " 01/01/2002:  2      \n",
       " 05/12/2000:  2      \n",
       " 06/07/2002:  2      \n",
       " 15/01/2001:  2      \n",
       " 15/11/2000:  2      \n",
       " (Other)   :188      "
      ]
     },
     "metadata": {},
     "output_type": "display_data"
    }
   ],
   "source": [
    "sal = read.csv('employee_data.csv')\n",
    "head(sal,3)\n",
    "summary(sal)"
   ]
  },
  {
   "cell_type": "markdown",
   "metadata": {},
   "source": [
    "#### Known Variance populations\n",
    "\n",
    "Example: the data scientist salary example, the null would be: the mean\n",
    "data scientist salary is $113,000. Then we will try to reject the null with a\n",
    "statistical test. So, usually, your personal opinion (e.g. data scientists don't\n",
    "earn exactly that much) is the alternative hypothesis.\n",
    "\n",
    "\n",
    "\n",
    " True_mean salary of a data scientis salary is: $ \\mu = \\$50,000 $\n",
    " \n",
    " True_ Varianceof a data scientis salary is: $\\sigma = \\$15,000$\n",
    " \n",
    " $$ Z = \\frac{\\bar {x} - \\mu} {SE} =  \\frac{\\bar {x} - \\mu} {\\sigma \\ /\\ \\sqrt n } $$\n",
    " \n",
    " \n",
    " $$z = \\frac{\\bar {x} - \\mu} {\\sigma} $$\n"
   ]
  },
  {
   "cell_type": "code",
   "execution_count": 22,
   "metadata": {},
   "outputs": [],
   "source": [
    "#write a function to perfotm a Z-test\n",
    "\n",
    "z.test <- function(mu,sd,data){\n",
    "    \n",
    "   zeta= (mean(data) - mu) \n",
    "    zeta1 = sd / sqrt( length(data))\n",
    "    zeta2 = zeta/zeta1\n",
    "    return(zeta2)\n",
    "}"
   ]
  },
  {
   "cell_type": "code",
   "execution_count": 25,
   "metadata": {},
   "outputs": [
    {
     "data": {
      "text/html": [
       "6.89607376185899"
      ],
      "text/latex": [
       "6.89607376185899"
      ],
      "text/markdown": [
       "6.89607376185899"
      ],
      "text/plain": [
       "[1] 6.896074"
      ]
     },
     "metadata": {},
     "output_type": "display_data"
    }
   ],
   "source": [
    "z.test(mu = 50000, sd=15000, data = sal$salary )"
   ]
  },
  {
   "cell_type": "markdown",
   "metadata": {},
   "source": [
    "we choose : \n",
    "\n",
    "$\\alpha = 0.05 $\n",
    "\n",
    "$z_{\\alpha} = 1.96 $\n",
    "\n",
    "since $\\mathopen| Z \\mathclose | \\approx 6.89 $ and is larger than $1.96$ we can  reject the null hypothesis."
   ]
  },
  {
   "cell_type": "markdown",
   "metadata": {},
   "source": [
    "## P-Value"
   ]
  },
  {
   "cell_type": "markdown",
   "metadata": {},
   "source": [
    "<u>The p-value is the smallest level of significance at which we can still reject the null hypothesis,\n",
    "given the observed sample statistic</u>\n"
   ]
  },
  {
   "cell_type": "code",
   "execution_count": 26,
   "metadata": {},
   "outputs": [],
   "source": [
    "dinom = 0.5 / sqrt(40)"
   ]
  },
  {
   "cell_type": "code",
   "execution_count": 27,
   "metadata": {},
   "outputs": [
    {
     "data": {
      "text/html": [
       "-2.5298221281347"
      ],
      "text/latex": [
       "-2.5298221281347"
      ],
      "text/markdown": [
       "-2.5298221281347"
      ],
      "text/plain": [
       "[1] -2.529822"
      ]
     },
     "metadata": {},
     "output_type": "display_data"
    }
   ],
   "source": [
    "-.2 / dinom"
   ]
  },
  {
   "cell_type": "code",
   "execution_count": 28,
   "metadata": {},
   "outputs": [
    {
     "data": {
      "text/html": [
       "0.021"
      ],
      "text/latex": [
       "0.021"
      ],
      "text/markdown": [
       "0.021"
      ],
      "text/plain": [
       "[1] 0.021"
      ]
     },
     "metadata": {},
     "output_type": "display_data"
    }
   ],
   "source": [
    "1-0.979"
   ]
  },
  {
   "cell_type": "markdown",
   "metadata": {},
   "source": [
    "## Test for the mean - population variance unknown"
   ]
  },
  {
   "cell_type": "code",
   "execution_count": 32,
   "metadata": {},
   "outputs": [
    {
     "data": {
      "text/html": [
       "<table>\n",
       "<thead><tr><th></th><th scope=col>vars</th><th scope=col>n</th><th scope=col>mean</th><th scope=col>sd</th><th scope=col>median</th><th scope=col>trimmed</th><th scope=col>mad</th><th scope=col>min</th><th scope=col>max</th><th scope=col>range</th><th scope=col>skew</th><th scope=col>kurtosis</th><th scope=col>se</th></tr></thead>\n",
       "<tbody>\n",
       "\t<tr><th scope=row>X1</th><td>1         </td><td>10        </td><td>0.377     </td><td>0.13736   </td><td>0.345     </td><td>0.36875   </td><td>0.14826   </td><td>0.23      </td><td>0.59      </td><td>0.36      </td><td>0.3517242 </td><td>-1.63805  </td><td>0.04343706</td></tr>\n",
       "</tbody>\n",
       "</table>\n"
      ],
      "text/latex": [
       "\\begin{tabular}{r|lllllllllllll}\n",
       "  & vars & n & mean & sd & median & trimmed & mad & min & max & range & skew & kurtosis & se\\\\\n",
       "\\hline\n",
       "\tX1 & 1          & 10         & 0.377      & 0.13736    & 0.345      & 0.36875    & 0.14826    & 0.23       & 0.59       & 0.36       & 0.3517242  & -1.63805   & 0.04343706\\\\\n",
       "\\end{tabular}\n"
      ],
      "text/markdown": [
       "\n",
       "| <!--/--> | vars | n | mean | sd | median | trimmed | mad | min | max | range | skew | kurtosis | se |\n",
       "|---|---|---|---|---|---|---|---|---|---|---|---|---|---|\n",
       "| X1 | 1          | 10         | 0.377      | 0.13736    | 0.345      | 0.36875    | 0.14826    | 0.23       | 0.59       | 0.36       | 0.3517242  | -1.63805   | 0.04343706 |\n",
       "\n"
      ],
      "text/plain": [
       "   vars n  mean  sd      median trimmed mad     min  max  range skew     \n",
       "X1 1    10 0.377 0.13736 0.345  0.36875 0.14826 0.23 0.59 0.36  0.3517242\n",
       "   kurtosis se        \n",
       "X1 -1.63805 0.04343706"
      ]
     },
     "metadata": {},
     "output_type": "display_data"
    },
    {
     "data": {
      "text/html": [
       "-0.529501823105943"
      ],
      "text/latex": [
       "-0.529501823105943"
      ],
      "text/markdown": [
       "-0.529501823105943"
      ],
      "text/plain": [
       "[1] -0.5295018"
      ]
     },
     "metadata": {},
     "output_type": "display_data"
    }
   ],
   "source": [
    "# Using the data from the lesson, solve the following tasks:\n",
    "\n",
    "# What if the question was: is the competitor open rate EXACTLY 40%. What would be the decision then?\n",
    "\n",
    "# 1. Test at 5% significance. Comment on the decision with the appropriate statistical jargon.\n",
    "# 2. Test at 1% significance. Comment on the decision with the appropriate statistical jargon.\n",
    "\n",
    "# Hint: Think about what type of test would be suitable here (one- or two-sided).\n",
    "\n",
    "library(psych)\n",
    "\n",
    "rate <- read.csv(\"ttest-a.csv\") # load your data\n",
    "describe(rate) # understand your data\n",
    "\n",
    "my.t.test <- function(a, hmean){\n",
    "  t <- (mean(a) - hmean)/(sd(a)/sqrt(length(a)))\n",
    "  return(t) # create the test\n",
    "}\n",
    "\n",
    "my.t.test(rate$Open.rate, 0.4)\n",
    "\n",
    "# H0 = open rate is NOT 40%\n",
    "# H1 = open rate is 40%\n",
    "# The problem is a two-sided test\n",
    "# T = 0.53\n",
    "# t1 = 2.26 Accept the null. At the 5% significance level we cannot say that the competitor's open rate is 40%\n",
    "# t2 = 3.25 Accept the null. The test on that sample shows that at 1% significance, our competitor's open rate is not 40%.\n"
   ]
  },
  {
   "cell_type": "code",
   "execution_count": 30,
   "metadata": {},
   "outputs": [
    {
     "name": "stderr",
     "output_type": "stream",
     "text": [
      "also installing the dependencies ‘tmvnsim’, ‘mnormt’\n",
      "\n",
      "Updating HTML index of packages in '.Library'\n",
      "Making 'packages.html' ... done\n"
     ]
    }
   ],
   "source": [
    "install.packages(\"psych\")"
   ]
  },
  {
   "cell_type": "code",
   "execution_count": 34,
   "metadata": {},
   "outputs": [
    {
     "data": {
      "text/plain": [
       "   Open.rate     \n",
       " Min.   :0.2300  \n",
       " 1st Qu.:0.2675  \n",
       " Median :0.3450  \n",
       " Mean   :0.3770  \n",
       " 3rd Qu.:0.4725  \n",
       " Max.   :0.5900  "
      ]
     },
     "metadata": {},
     "output_type": "display_data"
    }
   ],
   "source": [
    "summary(rate)"
   ]
  },
  {
   "cell_type": "markdown",
   "metadata": {},
   "source": [
    "## Comparing two means - dependent samples Example"
   ]
  },
  {
   "cell_type": "markdown",
   "metadata": {},
   "source": [
    "A health guru on the internet designed a weight-loss program.\n",
    "`\n",
    "You are wondering if it is working. You are given a sample of some people who did the program.\n",
    "\n",
    "You can find the data in kg if you prefer working with kg as a unit of measurement.\n",
    "\n",
    "State the null hypothesis.\n",
    "\n",
    "Calculate the appropriate statistic\n",
    "\n",
    "Decide if this is a one-sided or a two-sided test. What is the p-value?\n",
    "\n",
    "Based on the p-value, decide at 1%,5% and 10% significance, if the program is working.\\ "
   ]
  },
  {
   "cell_type": "code",
   "execution_count": 38,
   "metadata": {},
   "outputs": [
    {
     "data": {
      "text/html": [
       "<table>\n",
       "<thead><tr><th></th><th scope=col>vars</th><th scope=col>n</th><th scope=col>mean</th><th scope=col>sd</th><th scope=col>median</th><th scope=col>trimmed</th><th scope=col>mad</th><th scope=col>min</th><th scope=col>max</th><th scope=col>range</th><th scope=col>skew</th><th scope=col>kurtosis</th><th scope=col>se</th></tr></thead>\n",
       "<tbody>\n",
       "\t<tr><th scope=row>before</th><td>1         </td><td>10        </td><td>106.4260  </td><td>10.50876  </td><td>107.7750  </td><td>106.8037  </td><td>7.620564  </td><td>88.84000  </td><td>120.9900  </td><td>32.15000  </td><td>-0.2885115</td><td>-1.234775 </td><td>3.323163  </td></tr>\n",
       "\t<tr><th scope=row>after</th><td>2         </td><td>10        </td><td>105.2888  </td><td>10.72571  </td><td>104.9389  </td><td>105.3591  </td><td>8.309973  </td><td>87.36389  </td><td>122.6514  </td><td>35.28749  </td><td>-0.1708298</td><td>-1.057865 </td><td>3.391766  </td></tr>\n",
       "</tbody>\n",
       "</table>\n"
      ],
      "text/latex": [
       "\\begin{tabular}{r|lllllllllllll}\n",
       "  & vars & n & mean & sd & median & trimmed & mad & min & max & range & skew & kurtosis & se\\\\\n",
       "\\hline\n",
       "\tbefore & 1          & 10         & 106.4260   & 10.50876   & 107.7750   & 106.8037   & 7.620564   & 88.84000   & 120.9900   & 32.15000   & -0.2885115 & -1.234775  & 3.323163  \\\\\n",
       "\tafter & 2          & 10         & 105.2888   & 10.72571   & 104.9389   & 105.3591   & 8.309973   & 87.36389   & 122.6514   & 35.28749   & -0.1708298 & -1.057865  & 3.391766  \\\\\n",
       "\\end{tabular}\n"
      ],
      "text/markdown": [
       "\n",
       "| <!--/--> | vars | n | mean | sd | median | trimmed | mad | min | max | range | skew | kurtosis | se |\n",
       "|---|---|---|---|---|---|---|---|---|---|---|---|---|---|\n",
       "| before | 1          | 10         | 106.4260   | 10.50876   | 107.7750   | 106.8037   | 7.620564   | 88.84000   | 120.9900   | 32.15000   | -0.2885115 | -1.234775  | 3.323163   |\n",
       "| after | 2          | 10         | 105.2888   | 10.72571   | 104.9389   | 105.3591   | 8.309973   | 87.36389   | 122.6514   | 35.28749   | -0.1708298 | -1.057865  | 3.391766   |\n",
       "\n"
      ],
      "text/plain": [
       "       vars n  mean     sd       median   trimmed  mad      min      max     \n",
       "before 1    10 106.4260 10.50876 107.7750 106.8037 7.620564 88.84000 120.9900\n",
       "after  2    10 105.2888 10.72571 104.9389 105.3591 8.309973 87.36389 122.6514\n",
       "       range    skew       kurtosis  se      \n",
       "before 32.15000 -0.2885115 -1.234775 3.323163\n",
       "after  35.28749 -0.1708298 -1.057865 3.391766"
      ]
     },
     "metadata": {},
     "output_type": "display_data"
    },
    {
     "data": {
      "text/plain": [
       "\n",
       "\tPaired t-test\n",
       "\n",
       "data:  weight$before and weight$after\n",
       "t = 2.0058, df = 9, p-value = 0.03792\n",
       "alternative hypothesis: true difference in means is greater than 0\n",
       "95 percent confidence interval:\n",
       " 0.0979058       Inf\n",
       "sample estimates:\n",
       "mean of the differences \n",
       "               1.137196 \n"
      ]
     },
     "metadata": {},
     "output_type": "display_data"
    }
   ],
   "source": [
    "# A health guru on the internet designed a weight-loss program. \n",
    "# You are wondering if it is working. You are given a sample of some people who did the program. \n",
    "# You can find the data in kg if you prefer working with kg as a unit of measurement.\n",
    "\n",
    "# State the null hypothesis.\n",
    "# Calculate the appropriate statistic\n",
    "# Decide if this is a one-sided or a two-sided test. What is the p-value?\n",
    "# Based on the p-value, decide at 1%,5% and 10% significance, if the program is working. Comment using the appropriate statistical jargon.\n",
    "\n",
    "library(pastecs)\n",
    "library(psych)\n",
    "\n",
    "weight <- read.csv(\"weight_data_exercise_kg.csv\")\n",
    "describe(weight)\n",
    "\n",
    "dep.t.test <- t.test(weight$before, weight$after, paired = TRUE, alternative = \"g\")\n",
    "dep.t.test\n",
    "\n",
    "# H0: The difference between the before and the after conditions is less than or equal to 0\n",
    "# t = 2.01\n",
    "# The test is one-sided. We want to know if people are actually losing weight. p = 0.038\n",
    "# At 1% significance we accept the null hypothesis. The data shows that the program is not working.\n",
    "# At 5% significance, we reject the null hypothesis. Therefore, the program is successful.\n",
    "# At 10% significance, there is enoug statistical evidence that the program is working."
   ]
  },
  {
   "cell_type": "code",
   "execution_count": 40,
   "metadata": {},
   "outputs": [
    {
     "name": "stderr",
     "output_type": "stream",
     "text": [
      "also installing the dependencies ‘fs’, ‘rappdirs’, ‘processx’, ‘xfun’, ‘blob’, ‘lifecycle’, ‘vctrs’, ‘glue’, ‘tidyselect’, ‘data.table’, ‘gargle’, ‘ids’, ‘rematch2’, ‘isoband’, ‘cpp11’, ‘ellipsis’, ‘callr’, ‘knitr’, ‘withr’, ‘broom’, ‘cli’, ‘crayon’, ‘dbplyr’, ‘dplyr’, ‘dtplyr’, ‘forcats’, ‘googledrive’, ‘googlesheets4’, ‘ggplot2’, ‘haven’, ‘hms’, ‘httr’, ‘jsonlite’, ‘lubridate’, ‘magrittr’, ‘modelr’, ‘pillar’, ‘purrr’, ‘readr’, ‘reprex’, ‘rlang’, ‘rstudioapi’, ‘rvest’, ‘tibble’, ‘tidyr’, ‘xml2’\n",
      "\n",
      "Updating HTML index of packages in '.Library'\n",
      "Making 'packages.html' ... done\n"
     ]
    }
   ],
   "source": [
    "install.packages('tidyverse')"
   ]
  },
  {
   "cell_type": "code",
   "execution_count": null,
   "metadata": {},
   "outputs": [],
   "source": []
  }
 ],
 "metadata": {
  "kernelspec": {
   "display_name": "R",
   "language": "R",
   "name": "ir"
  },
  "language_info": {
   "codemirror_mode": "r",
   "file_extension": ".r",
   "mimetype": "text/x-r-source",
   "name": "R",
   "pygments_lexer": "r",
   "version": "3.6.1"
  },
  "latex_envs": {
   "LaTeX_envs_menu_present": true,
   "autoclose": false,
   "autocomplete": true,
   "bibliofile": "biblio.bib",
   "cite_by": "apalike",
   "current_citInitial": 1,
   "eqLabelWithNumbers": true,
   "eqNumInitial": 1,
   "hotkeys": {
    "equation": "Ctrl-E",
    "itemize": "Ctrl-I"
   },
   "labels_anchors": false,
   "latex_user_defs": false,
   "report_style_numbering": false,
   "user_envs_cfg": false
  },
  "toc": {
   "base_numbering": 1,
   "nav_menu": {},
   "number_sections": true,
   "sideBar": true,
   "skip_h1_title": false,
   "title_cell": "Table of Contents",
   "title_sidebar": "Contents",
   "toc_cell": false,
   "toc_position": {},
   "toc_section_display": true,
   "toc_window_display": false
  },
  "varInspector": {
   "cols": {
    "lenName": 16,
    "lenType": 16,
    "lenVar": 40
   },
   "kernels_config": {
    "python": {
     "delete_cmd_postfix": "",
     "delete_cmd_prefix": "del ",
     "library": "var_list.py",
     "varRefreshCmd": "print(var_dic_list())"
    },
    "r": {
     "delete_cmd_postfix": ") ",
     "delete_cmd_prefix": "rm(",
     "library": "var_list.r",
     "varRefreshCmd": "cat(var_dic_list()) "
    }
   },
   "types_to_exclude": [
    "module",
    "function",
    "builtin_function_or_method",
    "instance",
    "_Feature"
   ],
   "window_display": false
  }
 },
 "nbformat": 4,
 "nbformat_minor": 5
}
